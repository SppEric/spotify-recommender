{
 "cells": [
  {
   "cell_type": "markdown",
   "id": "01e854ba-1f4e-4e24-9808-10835720210b",
   "metadata": {
    "id": "01e854ba-1f4e-4e24-9808-10835720210b"
   },
   "source": [
    "# CS1470/2470 HW4: Language Models\n",
    "\n",
    "In this homework assignment, you will build deep learning language models. \n",
    "\n",
    "---"
   ]
  },
  {
   "cell_type": "code",
   "execution_count": 1,
   "id": "e5867603-2b77-47ea-8cdb-97fa84e1a491",
   "metadata": {
    "id": "e5867603-2b77-47ea-8cdb-97fa84e1a491"
   },
   "outputs": [
    {
     "name": "stdout",
     "output_type": "stream",
     "text": [
      "2.6.0\n",
      "1.19.2\n"
     ]
    }
   ],
   "source": [
    "import numpy as np\n",
    "import tensorflow as tf\n",
    "\n",
    "import matplotlib as mpl\n",
    "import matplotlib.pyplot as plt\n",
    "import preprocessing\n",
    "import rnn\n",
    "\n",
    "print(tf.__version__)\n",
    "print(np.__version__)\n",
    "\n",
    "import collections"
   ]
  },
  {
   "cell_type": "code",
   "execution_count": 2,
   "id": "048c1b2c",
   "metadata": {},
   "outputs": [],
   "source": [
    "%load_ext autoreload\n",
    "%autoreload 2\n",
    "# import   preprocess, trigram, rnn\n",
    "#%aimport preprocessing.py#, trigram, rnn"
   ]
  },
  {
   "cell_type": "code",
   "execution_count": 3,
   "id": "1aaa7e7a-c467-4f48-9fc6-2a7d28c35eda",
   "metadata": {
    "id": "1aaa7e7a-c467-4f48-9fc6-2a7d28c35eda"
   },
   "outputs": [],
   "source": [
    "data_path = \"../data\" ## TODO: Maybe edit if need be?"
   ]
  },
  {
   "cell_type": "markdown",
   "id": "371287d3-2c38-472e-b04b-237b2aa24eb6",
   "metadata": {
    "id": "371287d3-2c38-472e-b04b-237b2aa24eb6"
   },
   "source": [
    "## Preprocess"
   ]
  },
  {
   "cell_type": "markdown",
   "id": "8569fa65-569c-42cc-baaa-19cc3efb3a4f",
   "metadata": {
    "id": "8569fa65-569c-42cc-baaa-19cc3efb3a4f"
   },
   "source": [
    "### Tokenized Corpus"
   ]
  },
  {
   "cell_type": "markdown",
   "id": "ac7ca28f-3117-4983-9db8-8a141e773af7",
   "metadata": {
    "id": "ac7ca28f-3117-4983-9db8-8a141e773af7"
   },
   "source": [
    "It is now the time for you to finish the `get_data` function in the file `preprocess.py`. Then come back to this notebook and run the following cell."
   ]
  },
  {
   "cell_type": "code",
   "execution_count": 4,
   "id": "7517f466-0b7a-4fc5-b709-dbd5eddf0fe2",
   "metadata": {
    "colab": {
     "base_uri": "https://localhost:8080/"
    },
    "executionInfo": {
     "elapsed": 2459,
     "status": "ok",
     "timestamp": 1656613551989,
     "user": {
      "displayName": "Yeunun Choo",
      "userId": "09529988632388209490"
     },
     "user_tz": 240
    },
    "id": "7517f466-0b7a-4fc5-b709-dbd5eddf0fe2",
    "outputId": "19aaec91-dcdd-46e5-abdf-b519b6df02eb"
   },
   "outputs": [],
   "source": [
    "# ## get the tokenized list of words from the corpus\n",
    "# train_words_tokenized, test_words_tokenized, word_to_token_dict, relevance_dictionary = preprocessing.preprocess(directory='../data_info/data/', train_test_split=0.8, k=2)\n",
    "\n",
    "# ## A useful utility for counting things\n",
    "# word_counter = collections.Counter(train_words_tokenized)\n",
    "\n",
    "# ## What are the 40 most common words?\n",
    "# n_most_common = 40\n",
    "# most_common_tokens, most_common_occurrences = zip(*word_counter.most_common(n_most_common))\n",
    "\n",
    "# ## Convert the tokens back to words so that we can see what they are\n",
    "# token_to_word_dict = {i:w for w, i in word_to_token_dict.items()}\n",
    "# most_common_words = [token_to_word_dict[t] for t in most_common_tokens]\n",
    "\n",
    "# print(*zip(most_common_words, most_common_occurrences), sep = \", \")"
   ]
  },
  {
   "cell_type": "markdown",
   "id": "fe34c845-5dc5-483c-9167-496154cef5ff",
   "metadata": {
    "id": "fe34c845-5dc5-483c-9167-496154cef5ff"
   },
   "source": [
    "Here is a histogram for you. Notice how the number of occurrences decreases exponentially. "
   ]
  },
  {
   "cell_type": "code",
   "execution_count": 5,
   "id": "58c58056-62d8-49ff-b046-49c12fb69062",
   "metadata": {
    "colab": {
     "base_uri": "https://localhost:8080/",
     "height": 700
    },
    "executionInfo": {
     "elapsed": 602,
     "status": "ok",
     "timestamp": 1656613552588,
     "user": {
      "displayName": "Yeunun Choo",
      "userId": "09529988632388209490"
     },
     "user_tz": 240
    },
    "id": "58c58056-62d8-49ff-b046-49c12fb69062",
    "outputId": "6d940990-de75-40c1-c4ad-5faf56fa0b35"
   },
   "outputs": [],
   "source": [
    "# fig_most_common, ax_top50_most_common = plt.subplots()\n",
    "# ax_top50_most_common.barh(y = most_common_words,\n",
    "#                           width = most_common_occurrences, \n",
    "#                           height = 0.75, \n",
    "#                           color = \"C0\", \n",
    "#                           edgecolor = \"black\", \n",
    "#                           zorder = 100)\n",
    "\n",
    "# ax_top50_most_common.grid(linestyle = \"dashed\", \n",
    "#                           color = \"#bfbfbf\", \n",
    "#                           zorder = -100)\n",
    "\n",
    "# ax_top50_most_common.set_yticks(ticks = ax_top50_most_common.get_yticks())\n",
    "# ax_top50_most_common.set_yticklabels(labels = most_common_words, \n",
    "#                                      fontsize = 14)\n",
    "\n",
    "# ax_top50_most_common.invert_yaxis()\n",
    "# ## If you want log-scale \n",
    "# # ax_top50_most_common.set_xscale('log')\n",
    "\n",
    "# fig_most_common.set_size_inches([6, 12])"
   ]
  },
  {
   "cell_type": "markdown",
   "id": "9fdc0ae0-cec4-42cf-86ba-cf9c17cfcb6d",
   "metadata": {
    "id": "9fdc0ae0-cec4-42cf-86ba-cf9c17cfcb6d"
   },
   "source": [
    "### Train and Test with RNN\n",
    "\n",
    "Now you should be ready to complete every function in the file `trigram.py`. Go finish `trigram.py` and come back to here.\n",
    "\n",
    "Steps to take: \n",
    "- Load the data with `get_data`\n",
    "- Reshape the input and output data into the RNN shape\n",
    "- Initialize the model, train it, and calculate the perplexity"
   ]
  },
  {
   "cell_type": "code",
   "execution_count": 6,
   "id": "7dd1fcec-21ed-497c-a1f3-b26255ed65c6",
   "metadata": {
    "colab": {
     "base_uri": "https://localhost:8080/"
    },
    "executionInfo": {
     "elapsed": 539706,
     "status": "ok",
     "timestamp": 1656614714354,
     "user": {
      "displayName": "Yeunun Choo",
      "userId": "09529988632388209490"
     },
     "user_tz": 240
    },
    "id": "7dd1fcec-21ed-497c-a1f3-b26255ed65c6",
    "outputId": "ea87bc66-e79d-4218-9304-c053578cb260"
   },
   "outputs": [
    {
     "name": "stdout",
     "output_type": "stream",
     "text": [
      "Epoch 1/10\n",
      "1353/1353 [==============================] - 129s 94ms/step - loss: 10.2384 - RPrecision: 0.0016 - val_loss: 9.5707 - val_RPrecision: 2.9887e-04\n",
      "Epoch 2/10\n",
      "1353/1353 [==============================] - 129s 96ms/step - loss: 9.7565 - RPrecision: 0.0017 - val_loss: 9.4777 - val_RPrecision: 2.9887e-04\n",
      "Epoch 3/10\n",
      "1353/1353 [==============================] - 130s 96ms/step - loss: 9.5062 - RPrecision: 0.0016 - val_loss: 9.5441 - val_RPrecision: 2.9887e-04\n",
      "Epoch 4/10\n",
      "1353/1353 [==============================] - 132s 97ms/step - loss: 9.1337 - RPrecision: 0.0016 - val_loss: 9.7643 - val_RPrecision: 2.9887e-04\n",
      "Epoch 5/10\n",
      "1353/1353 [==============================] - 132s 98ms/step - loss: 8.6802 - RPrecision: 0.0017 - val_loss: 10.2847 - val_RPrecision: 2.9887e-04\n",
      "Epoch 6/10\n",
      "1353/1353 [==============================] - 132s 98ms/step - loss: 8.1621 - RPrecision: 0.0016 - val_loss: 10.9445 - val_RPrecision: 2.9887e-04\n",
      "Epoch 7/10\n",
      "1353/1353 [==============================] - 133s 99ms/step - loss: 7.5949 - RPrecision: 0.0017 - val_loss: 11.9262 - val_RPrecision: 2.9887e-04\n",
      "Epoch 8/10\n",
      "1353/1353 [==============================] - 132s 97ms/step - loss: 7.0291 - RPrecision: 0.0017 - val_loss: 12.8844 - val_RPrecision: 2.9887e-04\n",
      "Epoch 9/10\n",
      "1353/1353 [==============================] - 132s 98ms/step - loss: 6.4941 - RPrecision: 0.0016 - val_loss: 14.0244 - val_RPrecision: 2.9887e-04\n",
      "Epoch 10/10\n",
      "1353/1353 [==============================] - 133s 98ms/step - loss: 6.0094 - RPrecision: 0.0017 - val_loss: 15.7133 - val_RPrecision: 2.9887e-04\n",
      "CPU times: total: 26min\n",
      "Wall time: 25min 46s\n"
     ]
    }
   ],
   "source": [
    "%%time\n",
    "\n",
    "import rnn\n",
    "\n",
    "train_id, test_id, vocab, relevance, lp = preprocessing.preprocess(directory='../data_info/data/', train_test_split=0.8, k=3)\n",
    "\n",
    "train_id = np.array(train_id)\n",
    "test_id  = np.array(test_id)    \n",
    "X0, Y0 = train_id[:-1], train_id[1:]\n",
    "X1, Y1 = test_id[:-1],  test_id[1:]\n",
    "\n",
    "## TODO: Get your model that you'd like to use\n",
    "args = rnn.get_text_model(vocab, relevance)\n",
    "\n",
    "data = args.model.fit(\n",
    "    X0, Y0,\n",
    "    epochs=args.epochs, \n",
    "    batch_size=100,\n",
    "    validation_data=(X1, Y1)\n",
    ")"
   ]
  },
  {
   "cell_type": "markdown",
   "id": "1a8ef199-d1c1-465c-b629-9d3d8cf8e1f1",
   "metadata": {
    "id": "1a8ef199-d1c1-465c-b629-9d3d8cf8e1f1"
   },
   "source": [
    "### Generate Sentences with RNN"
   ]
  },
  {
   "cell_type": "markdown",
   "id": "dc93c257-6c85-494d-9bb3-fdd28b5fe403",
   "metadata": {
    "id": "dc93c257-6c85-494d-9bb3-fdd28b5fe403"
   },
   "source": [
    "Try the model with your own pairs of starting words. "
   ]
  },
  {
   "cell_type": "code",
   "execution_count": 33,
   "id": "8de51a2b-44e0-44c5-88ad-06cbd1d9e1d0",
   "metadata": {
    "colab": {
     "base_uri": "https://localhost:8080/"
    },
    "executionInfo": {
     "elapsed": 634,
     "status": "ok",
     "timestamp": 1656614714980,
     "user": {
      "displayName": "Yeunun Choo",
      "userId": "09529988632388209490"
     },
     "user_tz": 240
    },
    "id": "8de51a2b-44e0-44c5-88ad-06cbd1d9e1d0",
    "outputId": "30bae9cb-9be5-4da5-cdbf-e0b51943616d"
   },
   "outputs": [
    {
     "name": "stdout",
     "output_type": "stream",
     "text": [
      "If It's Love, Uma Thurman, Can't Stop, Under The Bridge, Highway to Hell, Year 3000, Dani California, Scar Tissue, Snow (Hey Oh) - Hey Oh Album Version, Otherside\n",
      "\n",
      "['Californication', 'Under The Bridge', 'Come As You Are', 'Scar Tissue', 'Snow (Hey Oh) - Hey Oh Album Version', 'Otherside', \"Can't Stop\", 'Santeria', \"Say It Ain't So\", 'What I Got', 'Wonderwall - Remastered', 'Smells Like Teen Spirit', 'Mr. Brightside', 'Hotel California - Remastered', 'Dani California']\n",
      "\n"
     ]
    },
    {
     "ename": "AttributeError",
     "evalue": "'list' object has no attribute 'numpy'",
     "output_type": "error",
     "traceback": [
      "\u001b[1;31m---------------------------------------------------------------------------\u001b[0m",
      "\u001b[1;31mAttributeError\u001b[0m                            Traceback (most recent call last)",
      "\u001b[1;32mc:\\Users\\ericj\\browncs\\cs1470\\spotify-recommender\\code\\HW4_LM.ipynb Cell 15\u001b[0m in \u001b[0;36m<cell line: 29>\u001b[1;34m()\u001b[0m\n\u001b[0;32m     <a href='vscode-notebook-cell:/c%3A/Users/ericj/browncs/cs1470/spotify-recommender/code/HW4_LM.ipynb#Y142sZmlsZQ%3D%3D?line=25'>26</a>\u001b[0m \u001b[39mprint\u001b[39m(tracks[:\u001b[39m15\u001b[39m])\n\u001b[0;32m     <a href='vscode-notebook-cell:/c%3A/Users/ericj/browncs/cs1470/spotify-recommender/code/HW4_LM.ipynb#Y142sZmlsZQ%3D%3D?line=27'>28</a>\u001b[0m \u001b[39mprint\u001b[39m()\n\u001b[1;32m---> <a href='vscode-notebook-cell:/c%3A/Users/ericj/browncs/cs1470/spotify-recommender/code/HW4_LM.ipynb#Y142sZmlsZQ%3D%3D?line=28'>29</a>\u001b[0m \u001b[39mprint\u001b[39m(\u001b[39m\"\u001b[39m\u001b[39mR-Precision: \u001b[39m\u001b[39m\"\u001b[39m \u001b[39m+\u001b[39m \u001b[39mstr\u001b[39m(RPrecision([\u001b[39m'\u001b[39;49m\u001b[39mCalifornication\u001b[39;49m\u001b[39m'\u001b[39;49m], [\u001b[39m'\u001b[39;49m\u001b[39mCalifornication\u001b[39;49m\u001b[39m'\u001b[39;49m])))\n",
      "\u001b[1;32mc:\\Users\\ericj\\browncs\\cs1470\\spotify-recommender\\code\\HW4_LM.ipynb Cell 15\u001b[0m in \u001b[0;36mRPrecision\u001b[1;34m(predictions, labels)\u001b[0m\n\u001b[0;32m      <a href='vscode-notebook-cell:/c%3A/Users/ericj/browncs/cs1470/spotify-recommender/code/HW4_LM.ipynb#Y142sZmlsZQ%3D%3D?line=1'>2</a>\u001b[0m PAD_TOKEN \u001b[39m=\u001b[39m \u001b[39m0\u001b[39m\n\u001b[0;32m      <a href='vscode-notebook-cell:/c%3A/Users/ericj/browncs/cs1470/spotify-recommender/code/HW4_LM.ipynb#Y142sZmlsZQ%3D%3D?line=3'>4</a>\u001b[0m \u001b[39m# Set up prediction array\u001b[39;00m\n\u001b[1;32m----> <a href='vscode-notebook-cell:/c%3A/Users/ericj/browncs/cs1470/spotify-recommender/code/HW4_LM.ipynb#Y142sZmlsZQ%3D%3D?line=4'>5</a>\u001b[0m prediction_arr \u001b[39m=\u001b[39m predictions\u001b[39m.\u001b[39;49mnumpy()\u001b[39m.\u001b[39mflatten()\u001b[39m.\u001b[39mastype(\u001b[39mint\u001b[39m)\n\u001b[0;32m      <a href='vscode-notebook-cell:/c%3A/Users/ericj/browncs/cs1470/spotify-recommender/code/HW4_LM.ipynb#Y142sZmlsZQ%3D%3D?line=5'>6</a>\u001b[0m input_song \u001b[39m=\u001b[39m labels\u001b[39m.\u001b[39mnumpy()\u001b[39m.\u001b[39mflatten()\u001b[39m.\u001b[39mastype(\u001b[39mint\u001b[39m)[\u001b[39m0\u001b[39m]\n\u001b[0;32m      <a href='vscode-notebook-cell:/c%3A/Users/ericj/browncs/cs1470/spotify-recommender/code/HW4_LM.ipynb#Y142sZmlsZQ%3D%3D?line=6'>7</a>\u001b[0m \u001b[39m#print(prediction_arr)\u001b[39;00m\n",
      "\u001b[1;31mAttributeError\u001b[0m: 'list' object has no attribute 'numpy'"
     ]
    }
   ],
   "source": [
    "def RPrecision(predictions, labels):\n",
    "        PAD_TOKEN = 0\n",
    "\n",
    "        # Set up prediction array\n",
    "        prediction_arr = predictions.numpy().flatten().astype(int)\n",
    "        input_song = labels.numpy().flatten().astype(int)[0]\n",
    "        #print(prediction_arr)\n",
    "        prediction_arr = prediction_arr[prediction_arr != PAD_TOKEN]\n",
    "\n",
    "        predict_set = set(prediction_arr)\n",
    "        \n",
    "        ground_truth = set(relevance[input_song])\n",
    "\n",
    "        # Return mean of running total to get running mean\n",
    "        return len(predict_set.intersection(ground_truth)) / len(ground_truth)\n",
    "\n",
    "## Feel free to mess around with the word list to see the model try to generate sentences\n",
    "for word1 in ['Californication']:\n",
    "    if word1 not in vocab: print(f\"{word1} not in vocabulary\")            \n",
    "    else: args.model.generate_recommendations(word1, 10, vocab)\n",
    "    print()\n",
    "\n",
    "ids = relevance[vocab['Californication']]\n",
    "id_to_track = {id: name for name, id in vocab.items()}\n",
    "tracks =[id_to_track[id] for id in ids[::-1]]\n",
    "print(tracks[:15])\n",
    "\n",
    "print()\n",
    "print(\"R-Precision: \" + str(RPrecision(vocab['Californication'], relevance['Californication'])))"
   ]
  },
  {
   "cell_type": "code",
   "execution_count": null,
   "id": "324df6ac",
   "metadata": {},
   "outputs": [],
   "source": []
  }
 ],
 "metadata": {
  "colab": {
   "collapsed_sections": [],
   "name": "HW4_LM.ipynb",
   "provenance": []
  },
  "kernelspec": {
   "display_name": "Python 3.8.13 ('DL3')",
   "language": "python",
   "name": "python3"
  },
  "language_info": {
   "codemirror_mode": {
    "name": "ipython",
    "version": 3
   },
   "file_extension": ".py",
   "mimetype": "text/x-python",
   "name": "python",
   "nbconvert_exporter": "python",
   "pygments_lexer": "ipython3",
   "version": "3.8.13"
  },
  "vscode": {
   "interpreter": {
    "hash": "fe492e72bd6773a3d314429fde4bd4e4bef6908777b5df5ebc6c0b18c57bf3fd"
   }
  }
 },
 "nbformat": 4,
 "nbformat_minor": 5
}
