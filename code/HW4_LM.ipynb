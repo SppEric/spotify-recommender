{
 "cells": [
  {
   "cell_type": "markdown",
   "id": "01e854ba-1f4e-4e24-9808-10835720210b",
   "metadata": {
    "id": "01e854ba-1f4e-4e24-9808-10835720210b"
   },
   "source": [
    "# CS1470/2470 HW4: Language Models\n",
    "\n",
    "In this homework assignment, you will build deep learning language models. \n",
    "\n",
    "---"
   ]
  },
  {
   "cell_type": "code",
<<<<<<< HEAD
   "execution_count": 1,
=======
   "execution_count": null,
>>>>>>> main
   "id": "e5867603-2b77-47ea-8cdb-97fa84e1a491",
   "metadata": {
    "id": "e5867603-2b77-47ea-8cdb-97fa84e1a491"
   },
   "outputs": [],
   "source": [
    "import numpy as np\n",
    "import tensorflow as tf\n",
    "\n",
    "import matplotlib as mpl\n",
    "import matplotlib.pyplot as plt\n",
    "import preprocessing\n",
    "\n",
    "import collections"
   ]
  },
  {
   "cell_type": "code",
<<<<<<< HEAD
   "execution_count": 2,
=======
   "execution_count": null,
>>>>>>> main
   "id": "048c1b2c",
   "metadata": {},
   "outputs": [],
   "source": [
    "%load_ext autoreload\n",
    "%autoreload 2"
   ]
  },
  {
   "cell_type": "code",
<<<<<<< HEAD
   "execution_count": 3,
=======
   "execution_count": null,
>>>>>>> main
   "id": "1aaa7e7a-c467-4f48-9fc6-2a7d28c35eda",
   "metadata": {
    "id": "1aaa7e7a-c467-4f48-9fc6-2a7d28c35eda"
   },
   "outputs": [],
   "source": [
    "data_path = \"../data\" ## TODO: Maybe edit if need be?"
   ]
  },
  {
<<<<<<< HEAD
   "cell_type": "markdown",
   "id": "371287d3-2c38-472e-b04b-237b2aa24eb6",
   "metadata": {
    "id": "371287d3-2c38-472e-b04b-237b2aa24eb6"
   },
   "source": [
    "## Preprocess"
   ]
  },
  {
   "cell_type": "markdown",
   "id": "a3535efa-e1e4-47fe-8969-79d0d3c8dc6f",
   "metadata": {
    "id": "a3535efa-e1e4-47fe-8969-79d0d3c8dc6f"
   },
   "source": [
    "When you open the provided text files, `train.txt` and `test.txt`, you will see that the raw corpus has already been through some preprocessing. For example, some uncommon words were replaced with `<_UNK>`, such as in the following sentence \n",
    "\n",
    "> The word \"photosysnthesis\" is not a common word, but \"flower\" is a common word.\n",
    "\n",
    "when has been preprocessed into:\n",
    "\n",
    "```\n",
    "The word \" <_UNK> \" is not a common word , but \" flower \" is a common word .\n",
    "```\n",
    "\n",
    "This practice of \"unk-ing\" is done to make the neural network learn as few words as possible while still being able to preserve most of the original meaning in the sentence. "
   ]
  },
  {
   "cell_type": "markdown",
   "id": "580cb81f-059c-427f-8f26-88eca6be659a",
   "metadata": {
    "id": "580cb81f-059c-427f-8f26-88eca6be659a"
   },
   "source": [
    "### Preprocess Warm-up Exercise"
   ]
  },
  {
   "cell_type": "markdown",
   "id": "874b969b-f016-45d1-9143-6535982a59e7",
   "metadata": {
    "id": "874b969b-f016-45d1-9143-6535982a59e7"
   },
   "source": [
    "Now your job is to implment the `get_data` function in `preprocess.py`. However, before you begin, let's do a small practice here as a warm-up. In this practice, we will pretend that the sentence \"The word <\\_UNK> is not a commonly used word but flower is\" is the entirety of your corpus. The punctuation marks are ignored just to keep this exercise simple.\n",
    "\n",
    "Here are what we are going to do.\n",
    "1. Convert the sentence into a concatenated list of every word in that sentence.\n",
    "   - ```['the', 'word', '<_unk>', 'is', 'not', 'a', 'common', 'word', 'but', 'flower', 'is', 'a', 'common', 'word']```\n",
    "   - Lower the case of all words.\n",
    "2. Create a list of all unique words that appears in the sentence.\n",
    "   + ```['<_unk>', 'a', 'but', 'common', 'flower', 'is', 'not', 'the', 'word']```\n",
    "   + The unique words do not have to be sorted to train the neural network\n",
    "   + but let's have them sorted in the alphabetical order to make sure that we all have the exact same mapping. \n",
    "3. Create a dictionary that maps each word to its own index in the list of unique words.\n",
    "   - ```{'<_unk>': 0, 'a': 1, 'but': 2, 'common': 3, 'flower': 4, 'is': 5, 'not': 6, 'the': 7, 'word': 8}```\n",
    "   - The index numbers will be used as tokens.\n",
    "4. Convert the sentence into a list of tokens.\n",
    "   + ```[7, 8, 0, 5, 6, 1, 3, 8, 2, 4, 5, 1, 3, 8]```"
   ]
  },
  {
   "cell_type": "code",
   "execution_count": 4,
   "id": "992d4b5f-2739-4e68-a6e7-825e13a1109f",
   "metadata": {
    "colab": {
     "base_uri": "https://localhost:8080/"
    },
    "executionInfo": {
     "elapsed": 10,
     "status": "ok",
     "timestamp": 1656613549539,
     "user": {
      "displayName": "Yeunun Choo",
      "userId": "09529988632388209490"
     },
     "user_tz": 240
    },
    "id": "992d4b5f-2739-4e68-a6e7-825e13a1109f",
    "outputId": "6bb11e36-5b86-4d7f-9bbe-e6e0a978b2a6"
   },
   "outputs": [
    {
     "name": "stdout",
     "output_type": "stream",
     "text": [
      "1. example_sentence_list \n",
      "    ['the', 'word', '<_unk>', 'is', 'not', 'a', 'common', 'word', 'but', 'flower', 'is', 'a', 'common', 'word']\n",
      "\n",
      "2. example_unique_words \n",
      "    ['<_unk>', 'a', 'but', 'common', 'flower', 'is', 'not', 'the', 'word']\n",
      "\n",
      "3. example_w2t_dict \n",
      "    {'<_unk>': 0, 'a': 1, 'but': 2, 'common': 3, 'flower': 4, 'is': 5, 'not': 6, 'the': 7, 'word': 8}\n",
      "\n",
      "4. example_sentence_tokenized \n",
      "    [7, 8, 0, 5, 6, 1, 3, 8, 2, 4, 5, 1, 3, 8]\n",
      "\n"
     ]
    }
   ],
   "source": [
    "example_sentence = \"The word <_UNK> is not a common word but flower is a common word\"\n",
    "\n",
    "## Answer Key\n",
    "example_sentence_list = example_sentence.lower().split()\n",
    "example_unique_words = sorted(set(example_sentence_list))\n",
    "example_w2t_dict = {w:i for i, w in enumerate(example_unique_words)}\n",
    "example_sentence_tokenized = [example_w2t_dict[w] for w in example_sentence_list]\n",
    "\n",
    "print(f\"1. example_sentence_list \\n    {example_sentence_list}\\n\")\n",
    "print(f\"2. example_unique_words \\n    {example_unique_words}\\n\")\n",
    "print(f\"3. example_w2t_dict \\n    {example_w2t_dict}\\n\")\n",
    "print(f\"4. example_sentence_tokenized \\n    {example_sentence_tokenized}\\n\")"
   ]
  },
  {
   "cell_type": "markdown",
   "id": "8569fa65-569c-42cc-baaa-19cc3efb3a4f",
   "metadata": {
    "id": "8569fa65-569c-42cc-baaa-19cc3efb3a4f"
   },
   "source": [
    "### Tokenized Corpus"
   ]
  },
  {
   "cell_type": "markdown",
   "id": "ac7ca28f-3117-4983-9db8-8a141e773af7",
   "metadata": {
    "id": "ac7ca28f-3117-4983-9db8-8a141e773af7"
   },
   "source": [
    "It is now the time for you to finish the `get_data` function in the file `preprocess.py`. Then come back to this notebook and run the following cell."
   ]
  },
  {
   "cell_type": "code",
   "execution_count": 5,
=======
   "cell_type": "code",
   "execution_count": null,
>>>>>>> main
   "id": "7517f466-0b7a-4fc5-b709-dbd5eddf0fe2",
   "metadata": {
    "colab": {
     "base_uri": "https://localhost:8080/"
    },
    "executionInfo": {
     "elapsed": 2459,
     "status": "ok",
     "timestamp": 1656613551989,
     "user": {
      "displayName": "Yeunun Choo",
      "userId": "09529988632388209490"
     },
     "user_tz": 240
    },
    "id": "7517f466-0b7a-4fc5-b709-dbd5eddf0fe2",
    "outputId": "19aaec91-dcdd-46e5-abdf-b519b6df02eb"
   },
<<<<<<< HEAD
   "outputs": [
    {
     "name": "stdout",
     "output_type": "stream",
     "text": [
      "('<PAD>', 932497), ('<BREAK>', 1000), ('Closer', 75), ('One Dance', 55), ('Ride', 52), ('HUMBLE.', 52), ('Broccoli (feat. Lil Yachty)', 50), ('Roses', 49), ('Home', 47), ('Congratulations', 47), (\"Don't Let Me Down\", 44), ('Forever', 43), ('Sorry', 42), ('Skinny Love', 41), ('iSpy (feat. Lil Yachty)', 39), ('Jumpman', 39), ('Bounce Back', 39), ('Mask Off', 38), ('Gold', 38), ('Let Me Love You', 38), ('Bad and Boujee (feat. Lil Uzi Vert)', 38), ('White Iverson', 38), ('XO TOUR Llif3', 37), ('Panda', 37), ('Selfish', 35), ('goosebumps', 35), ('Down', 35), ('Stronger', 35), ('Never Be Like You', 35), ('Caroline', 35), ('Gold Digger', 35), ('Yeah!', 34), ('Location', 34), ('No Role Modelz', 34), ('Stay', 33), ('T-Shirt', 33), ('Work from Home', 33), ('Mercy', 33), ('Trap Queen', 33), ('Waves', 33)\n"
     ]
    }
   ],
=======
   "outputs": [],
>>>>>>> main
   "source": [
    "## get the tokenized list of words from the corpus\n",
    "train_tracks_id, test_tracks_id, track_to_id, relevance_output, lp = preprocessing.preprocess()\n",
    "\n",
    "## A useful utility for counting things\n",
    "word_counter = collections.Counter(train_tracks_id)\n",
    "\n",
    "## What are the 40 most common words?\n",
    "n_most_common = 40\n",
    "most_common_tokens, most_common_occurrences = zip(*word_counter.most_common(n_most_common))\n",
    "\n",
    "## Convert the tokens back to words so that we can see what they are\n",
    "token_to_word_dict = {i:w for w, i in track_to_id.items()}\n",
    "most_common_words = [token_to_word_dict[t] for t in most_common_tokens]\n",
    "\n",
    "print(*zip(most_common_words, most_common_occurrences), sep = \", \")"
   ]
  },
  {
   "cell_type": "code",
   "execution_count": 6,
   "id": "58c58056-62d8-49ff-b046-49c12fb69062",
   "metadata": {
    "colab": {
     "base_uri": "https://localhost:8080/",
     "height": 700
    },
    "executionInfo": {
     "elapsed": 602,
     "status": "ok",
     "timestamp": 1656613552588,
     "user": {
      "displayName": "Yeunun Choo",
      "userId": "09529988632388209490"
     },
     "user_tz": 240
    },
    "id": "58c58056-62d8-49ff-b046-49c12fb69062",
    "outputId": "6d940990-de75-40c1-c4ad-5faf56fa0b35"
   },
<<<<<<< HEAD
   "outputs": [
    {
     "data": {
      "image/png": "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",
      "text/plain": [
       "<Figure size 600x1200 with 1 Axes>"
      ]
     },
     "metadata": {},
     "output_type": "display_data"
    }
   ],
=======
   "outputs": [],
>>>>>>> main
   "source": [
    "fig_most_common, ax_top50_most_common = plt.subplots()\n",
    "ax_top50_most_common.barh(y = most_common_words,\n",
    "                          width = most_common_occurrences, \n",
    "                          height = 0.75, \n",
    "                          color = \"C0\", \n",
    "                          edgecolor = \"black\", \n",
    "                          zorder = 100)\n",
    "\n",
    "ax_top50_most_common.grid(linestyle = \"dashed\", \n",
    "                          color = \"#bfbfbf\", \n",
    "                          zorder = -100)\n",
    "\n",
    "ax_top50_most_common.set_yticks(ticks = ax_top50_most_common.get_yticks())\n",
    "ax_top50_most_common.set_yticklabels(labels = most_common_words, \n",
    "                                     fontsize = 14)\n",
    "\n",
    "ax_top50_most_common.invert_yaxis()\n",
    "## If you want log-scale \n",
    "# ax_top50_most_common.set_xscale('log')\n",
    "\n",
    "fig_most_common.set_size_inches([6, 12])"
   ]
  },
  {
   "cell_type": "code",
<<<<<<< HEAD
   "execution_count": 7,
   "id": "08c7951e-ffb4-4404-ae79-1d76c17cfff5",
=======
   "execution_count": 47,
   "id": "7dd1fcec-21ed-497c-a1f3-b26255ed65c6",
>>>>>>> main
   "metadata": {
    "colab": {
     "base_uri": "https://localhost:8080/"
    },
    "executionInfo": {
     "elapsed": 539706,
     "status": "ok",
     "timestamp": 1656614714354,
     "user": {
      "displayName": "Yeunun Choo",
      "userId": "09529988632388209490"
     },
     "user_tz": 240
    },
    "id": "7dd1fcec-21ed-497c-a1f3-b26255ed65c6",
    "outputId": "ea87bc66-e79d-4218-9304-c053578cb260"
   },
   "outputs": [
    {
     "name": "stdout",
     "output_type": "stream",
     "text": [
      "675/675 [==============================] - 620s 915ms/step - loss: 10.9135 - perplexity: 58024.1484 - val_loss: 9.7583 - val_perplexity: 18812.4570\n",
      "CPU times: total: 1h 5min 48s\n",
      "Wall time: 15min 35s\n"
     ]
    },
    {
     "data": {
      "text/plain": [
       "<keras.callbacks.History at 0x114dd40dfa0>"
      ]
     },
     "execution_count": 47,
     "metadata": {},
     "output_type": "execute_result"
    }
   ],
   "source": [
    "%%time\n",
    "\n",
    "import rnn\n",
    "\n",
    "train_tracks_id, test_tracks_id, track_to_id, relevance_output = preprocessing.preprocess()\n",
    "\n",
    "train_id = np.array(train_id)\n",
    "test_id  = np.array(test_id)\n",
    "X0, Y0 = train_id[:-1], train_id[1:]\n",
    "X1, Y1  = test_id[:-1],  test_id[1:]\n",
    "\n",
    "\n",
    "X0 = X0[:-(len(X0) % 20)]\n",
    "Y0 = Y0[:-(len(Y0) % 20)]\n",
    "X1 = X1[:-(len(X1) % 20)]\n",
    "Y1 = Y1[:-(len(Y1) % 20)]\n",
    "\n",
    "np.reshape(X0, (-1, 20))\n",
    "np.reshape(X1, (-1, 20))\n",
    "np.reshape(Y0, (-1, 20))\n",
    "np.reshape(Y1, (-1, 20))\n",
    "\n",
<<<<<<< HEAD
    "Then, you can have a 2D array like `embedding_table` in the cell below to represent the embedding table, so that we can look up each word from the table with a function something like `lookup` in the cell below."
   ]
  },
  {
   "cell_type": "code",
   "execution_count": 8,
   "id": "bc75efaf-0a5c-4edb-91d0-aea8793591af",
   "metadata": {
    "id": "bc75efaf-0a5c-4edb-91d0-aea8793591af"
   },
   "outputs": [],
   "source": [
    "embedding_table = np.array([\n",
    "    [0.0, 0.0], [0.1, 0.2], [0.2, 0.4], [0.3, 0.6], [0.4, 0.8], \n",
    "    [0.5, 1.0], [0.6, 1.2], [0.7, 1.4], [0.8, 1.6]])\n",
=======
    "rnn_args = rnn.get_text_model(train_tracks_id)\n",
>>>>>>> main
    "\n",
    "rnn_args.model.fit(\n",
    "    X0, Y0,\n",
    "    epochs=rnn_args.epochs,\n",
    "    batch_size=rnn_args.batch_size,\n",
    "    validation_data=(X1, Y1)\n",
    ")"
   ]
  },
  {
   "cell_type": "code",
<<<<<<< HEAD
   "execution_count": 9,
   "id": "54328303-bf2c-4253-ae63-ecc113664bcd",
   "metadata": {
    "colab": {
     "base_uri": "https://localhost:8080/"
    },
    "executionInfo": {
     "elapsed": 5,
     "status": "ok",
     "timestamp": 1656613552589,
     "user": {
      "displayName": "Yeunun Choo",
      "userId": "09529988632388209490"
     },
     "user_tz": 240
    },
    "id": "54328303-bf2c-4253-ae63-ecc113664bcd",
    "outputId": "d04c0922-8144-4fcf-93f3-2b6153708aaf"
   },
   "outputs": [
    {
     "name": "stdout",
     "output_type": "stream",
     "text": [
      "tokens \n",
      "[4 5] \n",
      " \n",
      "embedding vectors \n",
      "[[0.4 0.8]\n",
      " [0.5 1. ]]\n"
     ]
    }
   ],
   "source": [
    "tokens = np.array([4, 5])\n",
    "embedding_vectors = lookup(tokens, embedding_table)\n",
    "print(f\"tokens \\n{tokens} \\n \\nembedding vectors \\n{embedding_vectors}\")"
   ]
  },
  {
   "cell_type": "markdown",
   "id": "ba58db22-571e-4158-a8c7-eb2529219c67",
   "metadata": {
    "id": "ba58db22-571e-4158-a8c7-eb2529219c67"
   },
   "source": [
    "We can even batch the input tokens. For example, if you want to look up `[\"flower\", \"is\"]` and `[\"not\", \"common\"]` at once, we can do that."
   ]
  },
  {
   "cell_type": "code",
   "execution_count": 10,
   "id": "42b1f7e2-d15e-4f52-8072-d45f8f60b9db",
   "metadata": {
    "colab": {
     "base_uri": "https://localhost:8080/"
    },
    "executionInfo": {
     "elapsed": 4,
     "status": "ok",
     "timestamp": 1656613552589,
     "user": {
      "displayName": "Yeunun Choo",
      "userId": "09529988632388209490"
     },
     "user_tz": 240
    },
    "id": "42b1f7e2-d15e-4f52-8072-d45f8f60b9db",
    "outputId": "9840c75e-1333-4a37-b9c2-c2b590fc95d3"
   },
   "outputs": [
    {
     "name": "stdout",
     "output_type": "stream",
     "text": [
      "tokens \n",
      "[[4 5]\n",
      " [6 3]] \n",
      " \n",
      "embedding vectors \n",
      "[[[0.4 0.8]\n",
      "  [0.5 1. ]]\n",
      "\n",
      " [[0.6 1.2]\n",
      "  [0.3 0.6]]]\n"
     ]
    }
   ],
   "source": [
    "tokens_batch = np.array([[4, 5], [6, 3]])\n",
    "embedding_vectors_batch = lookup(tokens_batch, embedding_table)\n",
    "print(f\"tokens \\n{tokens_batch} \\n \\nembedding vectors \\n{embedding_vectors_batch}\")"
   ]
  },
  {
   "cell_type": "markdown",
   "id": "da54ddb3-daa2-4029-9e69-c8ee8824efda",
   "metadata": {
    "id": "da54ddb3-daa2-4029-9e69-c8ee8824efda"
   },
   "source": [
    "A fully connected dense layer expects a batch of flattened vectors, which is not a big problem. We can simply reshape the array."
   ]
  },
  {
   "cell_type": "code",
   "execution_count": 11,
   "id": "5a457231-27cd-49b7-94a2-760df908c2ab",
   "metadata": {
    "colab": {
     "base_uri": "https://localhost:8080/"
    },
    "executionInfo": {
     "elapsed": 4,
     "status": "ok",
     "timestamp": 1656613552590,
     "user": {
      "displayName": "Yeunun Choo",
      "userId": "09529988632388209490"
     },
     "user_tz": 240
    },
    "id": "5a457231-27cd-49b7-94a2-760df908c2ab",
    "outputId": "056d1d7c-3ba1-47f1-b045-c3d5251c5f62"
   },
   "outputs": [
    {
     "data": {
      "text/plain": [
       "array([[0.4, 0.8, 0.5, 1. ],\n",
       "       [0.6, 1.2, 0.3, 0.6]])"
      ]
     },
     "execution_count": 11,
     "metadata": {},
     "output_type": "execute_result"
    }
   ],
   "source": [
    "embedding_vectors_batch.reshape(2, 2*2) #(batch size, words in single input*dimensions for each word)"
   ]
  },
  {
   "cell_type": "markdown",
   "id": "b0e2a31a-0e26-4747-aec2-e0d514fa7e9f",
   "metadata": {
    "id": "b0e2a31a-0e26-4747-aec2-e0d514fa7e9f"
   },
   "source": [
    "In fact, the TensorFlow function `tf.nn.embedding_lookup` is not so different.\n",
    "- The embedding table should be a **trainable variable**, rather than a simple NumPy Array.\n",
    "- The embedding table needs better initialization.\n",
    "    - so that embedding vectors end up with some kind of semantic meaning and grammatical role of each word after the training. "
   ]
  },
  {
   "cell_type": "code",
   "execution_count": 12,
   "id": "8243ecc1-9c5f-4015-839e-d4c6c2cecf08",
   "metadata": {
    "colab": {
     "base_uri": "https://localhost:8080/"
    },
    "executionInfo": {
     "elapsed": 217,
     "status": "ok",
     "timestamp": 1656613552802,
     "user": {
      "displayName": "Yeunun Choo",
      "userId": "09529988632388209490"
     },
     "user_tz": 240
    },
    "id": "8243ecc1-9c5f-4015-839e-d4c6c2cecf08",
    "outputId": "a94d384f-801d-41dc-b2da-c864494bf0e6"
   },
   "outputs": [],
   "source": [
    "# tf_embedding_table = tf.Variable(tf.random.normal([9, 2], stddev=0.01, dtype=tf.float32))\n",
    "# tf_embedding_vectors = tf.nn.embedding_lookup(tf_embedding_table, X_trigram)\n",
    "# tf_embedding_vectors = tf.reshape(tf_embedding_vectors, (12, 2*2)) \n",
    "# # (12 input data in a batch, 2 words in a single input x 2 dimensions for each word)\n",
    "\n",
    "# ## If the reshaping is confusing to you, \n",
    "# ##     you can un-comment the following block and double-check\n",
    "# # tf_embedding_vector1 = tf.nn.embedding_lookup(tf_embedding_table, X_trigram[:, 0])\n",
    "# # tf_embedding_vector2 = tf.nn.embedding_lookup(tf_embedding_table, X_trigram[:, 1])\n",
    "# # tf_embedding_vectors_check = tf.concat((tf_embedding_vector1, tf_embedding_vector2), axis=1)\n",
    "# # print(tf_embedding_vectors == tf_embedding_vectors_check)\n",
    "\n",
    "# print(tf_embedding_vectors)"
   ]
  },
  {
   "cell_type": "markdown",
   "id": "79525f24",
   "metadata": {},
   "source": [
    "On the topic, you are also free to use the layered version, [`tf.keras.layers.Embedding`](https://www.tensorflow.org/api_docs/python/tf/keras/layers/Embedding). Feel free to use it if it helps simplify your implementation. "
   ]
  },
  {
   "cell_type": "markdown",
   "id": "7568b749-aab0-477f-aaf5-adbe1a70ca8a",
   "metadata": {
    "id": "7568b749-aab0-477f-aaf5-adbe1a70ca8a"
   },
   "source": [
    "### Train and Test Trigram\n",
    "\n",
    "Now you should be ready to complete every function in the file `trigram.py`. Go finish `trigram.py` and come back when you're ready!\n",
    "\n",
    "Steps to take: \n",
    "- Load the data with `get_data`\n",
    "- Reshape the input and output data into the Trigram shape\n",
    "- Initialize the model, train it, and calculate the perplexity"
   ]
  },
  {
   "cell_type": "code",
   "execution_count": 13,
   "id": "7f1082bc-c75d-4a6e-b29d-a9fd2c27f342",
   "metadata": {
    "colab": {
     "base_uri": "https://localhost:8080/"
    },
    "executionInfo": {
     "elapsed": 620979,
     "status": "ok",
     "timestamp": 1656614173780,
     "user": {
      "displayName": "Yeunun Choo",
      "userId": "09529988632388209490"
     },
     "user_tz": 240
    },
    "id": "7f1082bc-c75d-4a6e-b29d-a9fd2c27f342",
    "outputId": "43bbe216-1aa7-4a74-d3be-a7d57fefc884"
   },
   "outputs": [],
   "source": [
    "# %%time\n",
    "\n",
    "# import trigram \n",
    "\n",
    "# ## Load the data (from trigram.py)\n",
    "# train_id, test_id, vocab = preprocess.get_data(f\"{data_path}/train.txt\", f\"{data_path}/test.txt\")\n",
    "\n",
    "# ## Process the data\n",
    "# def process_trigram_data(data):\n",
    "#     X = np.array(data[:-1])\n",
    "#     Y = np.array(data[2:])\n",
    "#     X = np.column_stack((X[:-1], X[1:]))\n",
    "#     return X, Y\n",
    "\n",
    "# X0, Y0 = process_trigram_data(train_id)\n",
    "# X1, Y1 = process_trigram_data(test_id)\n",
    "\n",
    "# ## Feel free to paste your implementation in here if you want.\n",
    "# trigram_args = trigram.get_text_model(vocab)\n",
    "\n",
    "# trigram_args.model.fit(\n",
    "#     X0, Y0,\n",
    "#     epochs=trigram_args.epochs, \n",
    "#     batch_size=trigram_args.batch_size,\n",
    "#     validation_data=(X1, Y1)\n",
    "# )"
   ]
  },
  {
   "cell_type": "markdown",
   "id": "a5919412-d77e-44e3-b81a-9cfa4fe4ee0b",
   "metadata": {
    "id": "a5919412-d77e-44e3-b81a-9cfa4fe4ee0b"
   },
   "source": [
    "### Generate Sentences with Trigram"
   ]
  },
  {
   "cell_type": "markdown",
   "id": "707fd43e-8d65-4edb-8e8e-6312b1db40b0",
   "metadata": {
    "id": "707fd43e-8d65-4edb-8e8e-6312b1db40b0"
   },
   "source": [
    "Try the model with your own pairs of starting words. "
   ]
  },
  {
   "cell_type": "code",
   "execution_count": 14,
   "id": "24d68730-6177-4c97-8a7b-240068105319",
   "metadata": {
    "colab": {
     "base_uri": "https://localhost:8080/"
    },
    "executionInfo": {
     "elapsed": 416,
     "status": "ok",
     "timestamp": 1656614174188,
     "user": {
      "displayName": "Yeunun Choo",
      "userId": "09529988632388209490"
     },
     "user_tz": 240
    },
    "id": "24d68730-6177-4c97-8a7b-240068105319",
    "outputId": "92f99f83-0422-4c7e-cb9a-6b9faa82337a"
   },
   "outputs": [],
   "source": [
    "# starting_words = [(\"computer\", \"is\"), (\"i\", \"am\"), (\"something\", \"new\"), (\"this\", \"is\")]\n",
    "\n",
    "# for first, second in starting_words:\n",
    "#     trigram_args.model.generate_sentence(first, second, 45, vocab)"
   ]
  },
  {
   "cell_type": "markdown",
   "id": "93e282e8",
   "metadata": {},
   "source": [
    "See anything interesting? "
   ]
  },
  {
   "cell_type": "markdown",
   "id": "defbe364-798d-4fac-b23d-af05b1e58373",
   "metadata": {
    "id": "defbe364-798d-4fac-b23d-af05b1e58373"
   },
   "source": [
    "## RNN Model"
   ]
  },
  {
   "cell_type": "markdown",
   "id": "adba73a2-33bb-4ec0-8f46-b9c0ceb57c09",
   "metadata": {
    "id": "adba73a2-33bb-4ec0-8f46-b9c0ceb57c09"
   },
   "source": [
    "### RNN Input and Output"
   ]
  },
  {
   "cell_type": "markdown",
   "id": "b7578cd2-094c-4264-8bcb-aa724bd72640",
   "metadata": {
    "id": "b7578cd2-094c-4264-8bcb-aa724bd72640"
   },
   "source": [
    "To train an RNN model, the input and output needs to be shaped differently than the trigram model. For an RNN model, the words need to be divided into non-overlapping windows of a fixed size. \n",
    "- **Window size** means the number of words each window contains.\n",
    "- **Non-overlapping** means that a window and the next window do not share a word\n",
    "\n",
    "Let's do a toy example again with our example sentence\n",
    " - `['the', 'word', '<_unk>', 'is', 'not', 'a', 'common', 'word', 'but', 'flower', 'is', 'a', 'common', 'word']`\n",
    "\n",
    "With our example sentence, one possible arangement of the windows for the input `X` and the output `y` can be the following. \n",
    "\n",
    "```\n",
    "X = [['the', 'word', '<_unk>', 'is'],\n",
    "     ['not', 'a', 'common', 'word'],\n",
    "     ['but', 'flower', 'is', 'a']]\n",
    "     \n",
    "y = [['word', '<_unk>', 'is', 'not'],\n",
    "     ['a', 'common', 'word', 'but'],\n",
    "     ['flower', 'is', 'a', 'common']]\n",
    "```\n",
    "\n",
    "In this example, \n",
    "+ We have divided the example sentence into non-overlapping windows of size 4. \n",
    "\n",
    "- Notice that there is no overlapping word between two consecutives windows.\n",
    "   - For example `['the', 'word', '<_unk>', 'is']` and `['not', 'a', 'common', 'word']`. \n",
    "   \n",
    "+ The last word in the example sentence `\"word\"` ended up not being included in the input and output data. \n",
    "  + That happened because 13 divided by 4 has one remainder.\n",
    "    + 13 is the length of the example sentence **minus one**.\n",
    "    + 4 is the window size.\n",
    "  + **Why minus one** and not the length of the example sentence itself? \n",
    "    + **The output windows in `y` have to be exactly one word behind of their corresponding input windows in `X`.**\n",
    "    \n",
    "|Index| Input `X`                        | Output `y`                       |\n",
    "|-----|----------------------------------|----------------------------------|\n",
    "|  0  |\\['the', 'word', '<_unk>', 'is'\\] | \\['word', '<_unk>', 'is', 'not'\\]|\n",
    "|  1  |\\['not', 'a', 'common', 'word'\\]  | \\['a', 'common', 'word', 'but'\\] |\n",
    "|  2  |\\['but', 'flower', 'is', 'a'\\]    | \\['flower', 'is', 'a', 'common'\\]|\n",
    "\n"
   ]
  },
  {
   "cell_type": "code",
   "execution_count": 15,
   "id": "ce9b0145-32da-40db-827c-a238d6c7a092",
   "metadata": {
    "colab": {
     "base_uri": "https://localhost:8080/"
    },
    "executionInfo": {
     "elapsed": 10,
     "status": "ok",
     "timestamp": 1656614174189,
     "user": {
      "displayName": "Yeunun Choo",
      "userId": "09529988632388209490"
     },
     "user_tz": 240
    },
    "id": "ce9b0145-32da-40db-827c-a238d6c7a092",
    "outputId": "99ac0943-a303-470d-894e-7b43b123b545"
   },
   "outputs": [
    {
     "name": "stdout",
     "output_type": "stream",
     "text": [
      "token list = [7, 8, 0, 5, 6, 1, 3, 8, 2, 4, 5, 1, 3, 8]\n",
      "X_RNN shape = (3, 4)\n",
      "y_RNN shape = (3, 4)\n",
      "X_RNN     --> y_RNN\n",
      "[7 8 0 5] --> [8 0 5 6]\n",
      "[6 1 3 8] --> [1 3 8 2]\n",
      "[2 4 5 1] --> [4 5 1 3]\n"
     ]
    }
   ],
   "source": [
    "print(f\"token list = {example_sentence_tokenized}\")\n",
    "window_size = 4\n",
    "\n",
    "# 1. Do some NumPy manipulation on the example sentence \n",
    "example_sentence_tokenized_array = np.array(example_sentence_tokenized)\n",
    "remainder = (len(example_sentence_tokenized_array) - 1)%window_size\n",
    "example_sentence_tokenized_array = example_sentence_tokenized_array[:-remainder]\n",
    "\n",
    "# 2. Define X_RNN and y_RNN  \n",
    "X_RNN = example_sentence_tokenized_array[:-1].reshape(-1, 4)\n",
    "y_RNN = example_sentence_tokenized_array[1:].reshape(-1, 4)\n",
    "\n",
    "print(f\"X_RNN shape = {X_RNN.shape}\")\n",
    "print(f\"y_RNN shape = {y_RNN.shape}\")\n",
    "\n",
    "print(f\"X_RNN     --> y_RNN\")\n",
    "for each_X, each_y in zip(X_RNN, y_RNN):\n",
    "    print(f\"{each_X} --> {each_y}\")"
   ]
  },
  {
   "cell_type": "markdown",
   "id": "1f70d760-1852-45a5-bb0b-8d6f70b80b47",
   "metadata": {
    "id": "1f70d760-1852-45a5-bb0b-8d6f70b80b47"
   },
   "source": [
    "The result should look like this\n",
    "```\n",
    "token list = [7, 8, 0, 5, 6, 1, 3, 8, 2, 4, 5, 1, 3, 8]\n",
    "X_RNN shape = (3, 4)\n",
    "y_RNN shape = (3, 4)\n",
    "X_RNN     --> y_RNN\n",
    "[7 8 0 5] --> [8 0 5 6]\n",
    "[6 1 3 8] --> [1 3 8 2]\n",
    "[2 4 5 1] --> [4 5 1 3]\n",
    "```"
   ]
  },
  {
   "cell_type": "markdown",
   "id": "c23fb186-7062-46d0-abb8-ec5bc99fe24c",
   "metadata": {
    "id": "c23fb186-7062-46d0-abb8-ec5bc99fe24c"
   },
   "source": [
    "PS. Have you noticed that we could have dropped the first word in the example sentence instead of the last word?\n",
    "- That's only because we did not offset the example sentence and wanted to keep as many words in the input and output\n",
    "- In practice we draw a **random integer between 0 and the (window size-1)** for every epoch\n",
    "- Then we remove the random integer number of words from the beginning of the training corpus (= offset)\n",
    "- Depending on the value of the random integer,\n",
    "  - Different words end up not being included in `X` and `y` from one epoch to another\n",
    "  - `X` and `y` end up having different number of windows from one epoch to another\n",
    "  - For every epoch, the model is trained with similar but slightly different sets of windows "
   ]
  },
  {
   "cell_type": "markdown",
   "id": "af301afd-61a1-46f1-bd1e-4e7ad6d77822",
   "metadata": {
    "id": "af301afd-61a1-46f1-bd1e-4e7ad6d77822"
   },
   "source": [
    "### Keras LSTM Layer "
   ]
  },
  {
   "cell_type": "markdown",
   "id": "a5aa85c2-be08-4cef-ae14-ba20637987f5",
   "metadata": {
    "id": "a5aa85c2-be08-4cef-ae14-ba20637987f5"
   },
   "source": [
    "Let's take a close look at `tf.keras.layers.LSTM`'s API. First, the Keras LSTM Layer expects the input shape to be in the **batch-major form**, which means the dimensions of the input tensor should be in the order of `[batch, timesteps, embedding]`. \n",
    "\n",
    "- In our language model, `timesteps` is basically our `window`. \n",
    "  - That's because we treat a sequence of words as a time-series data.\n",
    "- It also has a keyword argument to enable the input in the **time-major form** `[timesteps, batch, embedding]`, \n",
    "  - but we can ignore that now, \n",
    "  - since all our data is already in the batch-major form anyways."
   ]
  },
  {
   "cell_type": "code",
   "execution_count": 16,
   "id": "bf618442-b3fd-4dd9-8a22-1ac1a34c8465",
   "metadata": {
    "colab": {
     "base_uri": "https://localhost:8080/"
    },
    "executionInfo": {
     "elapsed": 9,
     "status": "ok",
     "timestamp": 1656614174189,
     "user": {
      "displayName": "Yeunun Choo",
      "userId": "09529988632388209490"
     },
     "user_tz": 240
    },
    "id": "bf618442-b3fd-4dd9-8a22-1ac1a34c8465",
    "outputId": "fc20d306-43b5-42e1-c9f6-aac1cb244671"
   },
   "outputs": [
    {
     "name": "stdout",
     "output_type": "stream",
     "text": [
      "Metal device set to: Apple M1 Max\n",
      "\n",
      "systemMemory: 64.00 GB\n",
      "maxCacheSize: 21.33 GB\n",
      "\n",
      "RNN input tokens shape = (3, 4)\n",
      "RNN embeddings shape   = (3, 4, 2)\n",
      "    Batch Size = 3\n",
      "   Window Size = 4\n",
      "Embedding Size = 2\n"
     ]
    },
    {
     "name": "stderr",
     "output_type": "stream",
     "text": [
      "2022-12-07 18:17:19.778628: I tensorflow/core/common_runtime/pluggable_device/pluggable_device_factory.cc:305] Could not identify NUMA node of platform GPU ID 0, defaulting to 0. Your kernel may not have been built with NUMA support.\n",
      "2022-12-07 18:17:19.778735: I tensorflow/core/common_runtime/pluggable_device/pluggable_device_factory.cc:271] Created TensorFlow device (/job:localhost/replica:0/task:0/device:GPU:0 with 0 MB memory) -> physical PluggableDevice (device: 0, name: METAL, pci bus id: <undefined>)\n"
     ]
    }
   ],
   "source": [
    "embedding_size = 2\n",
    "embedding_layer = tf.keras.layers.Embedding(input_dim=9, output_dim=embedding_size)\n",
    "X_RNN_embedding = embedding_layer(X_RNN)\n",
    "\n",
    "RNN_input_dim_order = [\"Batch\", \"Window\", \"Embedding\"]\n",
    "print(f\"RNN input tokens shape = {X_RNN.shape}\")\n",
    "print(f\"RNN embeddings shape   = {X_RNN_embedding.shape}\")\n",
    "for each_dim_meaning, each_dim in zip(RNN_input_dim_order, X_RNN_embedding.shape):\n",
    "    print(f\"{each_dim_meaning:>9s} Size = {each_dim}\")"
   ]
  },
  {
   "cell_type": "markdown",
   "id": "cc1a2cc9-646d-4952-a162-2fd14aaa436d",
   "metadata": {
    "id": "cc1a2cc9-646d-4952-a162-2fd14aaa436d"
   },
   "source": [
    "Perhaps the most important keywards arguments are `units`, `return_state` and `return_sequences`. \n",
    "- `units`: the output embedding size\n",
    "  - It does not necessarily have to be the same as the input embedding size,\n",
    "  - but we will keep them same in this homework assignment. \n",
    "- `return_state`: the layer returns the last state for every window in the batch.\n",
    "- `return_sequences`: the layer returns the whole output sequence instead of the last output.\n",
    "\n",
    "Also please note that all Keras LSTM layers have the same weight structures, no matter the value of the Boolean flags.\n",
    "+ So, we can copy and paste the weights with the `.get_weights()` and `.set_weights()` methods.\n",
    "+ The input shapes are needed to initialize the weights."
   ]
  },
  {
   "cell_type": "code",
   "execution_count": 17,
   "id": "a422f84f-4877-4b2a-b687-17de9bc2fa45",
   "metadata": {
    "id": "a422f84f-4877-4b2a-b687-17de9bc2fa45"
   },
   "outputs": [],
   "source": [
    "batch_size, window_size, embedding_size= X_RNN_embedding.shape ## (3, 4, 2)\n",
    "units = embedding_size\n",
    "\n",
    "lstm           = tf.keras.layers.LSTM(units=embedding_size, return_sequences=False, return_state=False)\n",
    "lstm_state     = tf.keras.layers.LSTM(units=embedding_size, return_sequences=False, return_state=True )\n",
    "lstm_seq       = tf.keras.layers.LSTM(units=embedding_size, return_sequences=True,  return_state=False)\n",
    "lstm_seq_state = tf.keras.layers.LSTM(units=embedding_size, return_sequences=True,  return_state=True )\n",
    "\n",
    "lstm.build(X_RNN_embedding.shape)\n",
    "lstm_state.build(X_RNN_embedding.shape)\n",
    "lstm_seq.build(X_RNN_embedding.shape)\n",
    "lstm_seq_state.build(X_RNN_embedding.shape)\n",
    "\n",
    "lstm_weights = lstm.get_weights()\n",
    "lstm_state.set_weights(lstm_weights)\n",
    "lstm_seq.set_weights(lstm_weights)\n",
    "lstm_seq_state.set_weights(lstm_weights)"
   ]
  },
  {
   "cell_type": "markdown",
   "id": "ff5e731b-2da8-4b61-afd1-492679c0281f",
   "metadata": {
    "id": "ff5e731b-2da8-4b61-afd1-492679c0281f"
   },
   "source": [
    "#### LSTM default"
   ]
  },
  {
   "cell_type": "markdown",
   "id": "5d148e5b-f496-460d-834c-9aebcac9a61f",
   "metadata": {
    "id": "5d148e5b-f496-460d-834c-9aebcac9a61f"
   },
   "source": [
    "The default output shape is `[batch, embedding]`."
   ]
  },
  {
   "cell_type": "code",
   "execution_count": 18,
   "id": "5957e936-aa4b-4191-bc3a-50c8421b263f",
   "metadata": {
    "colab": {
     "base_uri": "https://localhost:8080/"
    },
    "executionInfo": {
     "elapsed": 6,
     "status": "ok",
     "timestamp": 1656614174189,
     "user": {
      "displayName": "Yeunun Choo",
      "userId": "09529988632388209490"
     },
     "user_tz": 240
    },
    "id": "5957e936-aa4b-4191-bc3a-50c8421b263f",
    "outputId": "b5c5dc5a-92c7-4a35-f48c-5d09e6e49ec5"
   },
   "outputs": [
    {
     "name": "stdout",
     "output_type": "stream",
     "text": [
      "default output, shape = (3, 2) \n",
      "[[-3.2703332e-03 -4.9766363e-03]\n",
      " [-1.1716829e-02 -4.4584183e-05]\n",
      " [-1.0494465e-02 -1.1826329e-03]]\n"
     ]
    }
   ],
   "source": [
    "output = lstm(X_RNN_embedding, initial_state = None)\n",
    "print(f\"default output, shape = {output.shape} \\n{output.numpy()}\")"
   ]
  },
  {
   "cell_type": "markdown",
   "id": "35f9504f-97b7-40cc-b9ab-538b1e9915bd",
   "metadata": {
    "id": "35f9504f-97b7-40cc-b9ab-538b1e9915bd"
   },
   "source": [
    "#### LSTM state"
   ]
  },
  {
   "cell_type": "markdown",
   "id": "e39b6ee6-c2b0-4377-a6c1-81783c3eb1b9",
   "metadata": {
    "id": "e39b6ee6-c2b0-4377-a6c1-81783c3eb1b9"
   },
   "source": [
    "When `return_state` is `True`, it returns the last hidden state and the last cell state. \n",
    "- The output shape is still `[batch, embedding]`.\n",
    "- Notice that the last hidden state is the same as the output. \n",
    "- The hidden and cell states are in the shape `[batch, embedding]`"
   ]
  },
  {
   "cell_type": "code",
   "execution_count": 19,
   "id": "e460376d-3c87-4745-b59c-e9df398a5424",
   "metadata": {
    "colab": {
     "base_uri": "https://localhost:8080/"
    },
    "executionInfo": {
     "elapsed": 283,
     "status": "ok",
     "timestamp": 1656614174468,
     "user": {
      "displayName": "Yeunun Choo",
      "userId": "09529988632388209490"
     },
     "user_tz": 240
    },
    "id": "e460376d-3c87-4745-b59c-e9df398a5424",
    "outputId": "c9748a0c-c13c-41ac-cab1-9f49b5a1aafe"
   },
   "outputs": [
    {
     "name": "stdout",
     "output_type": "stream",
     "text": [
      "output, shape = (3, 2) \n",
      "[[-3.2703332e-03 -4.9766363e-03]\n",
      " [-1.1716829e-02 -4.4584183e-05]\n",
      " [-1.0494465e-02 -1.1826329e-03]]\n",
      "\n",
      "state_h, shape = (3, 2) \n",
      "[[-3.2703332e-03 -4.9766363e-03]\n",
      " [-1.1716829e-02 -4.4584183e-05]\n",
      " [-1.0494465e-02 -1.1826329e-03]]\n",
      "\n",
      "state_c, shape = (3, 2) \n",
      "[[-6.5284478e-03 -9.9938801e-03]\n",
      " [-2.3267411e-02 -8.9762187e-05]\n",
      " [-2.0776127e-02 -2.3823222e-03]]\n"
     ]
    }
   ],
   "source": [
    "output, state_h, state_c = lstm_state(X_RNN_embedding, initial_state = None)\n",
    "\n",
    "print(f\"output, shape = {output.shape} \\n{output}\\n\")\n",
    "print(f\"state_h, shape = {state_h.shape} \\n{state_h}\\n\")\n",
    "print(f\"state_c, shape = {state_c.shape} \\n{state_c}\")"
   ]
  },
  {
   "cell_type": "markdown",
   "id": "17676c7c-23f5-4970-9140-a114d578592d",
   "metadata": {
    "id": "17676c7c-23f5-4970-9140-a114d578592d"
   },
   "source": [
    "#### LSTM sequences"
   ]
  },
  {
   "cell_type": "markdown",
   "id": "ef4725ef-9e1a-4af3-929b-960a703e757d",
   "metadata": {
    "id": "ef4725ef-9e1a-4af3-929b-960a703e757d"
   },
   "source": [
    "When `return_sequences` is `True`, it returns whole sequence of outputs. \n",
    "- The output sequence shape is `[batch, timesteps, embedding]`."
   ]
  },
  {
   "cell_type": "code",
   "execution_count": 20,
   "id": "36b9ce59-c014-4894-910c-205c85ee59a0",
   "metadata": {
    "colab": {
     "base_uri": "https://localhost:8080/"
    },
    "executionInfo": {
     "elapsed": 9,
     "status": "ok",
     "timestamp": 1656614174469,
     "user": {
      "displayName": "Yeunun Choo",
      "userId": "09529988632388209490"
     },
     "user_tz": 240
    },
    "id": "36b9ce59-c014-4894-910c-205c85ee59a0",
    "outputId": "983e97dc-bc9f-49a6-fa36-306a1ac96c7e"
   },
   "outputs": [
    {
     "name": "stdout",
     "output_type": "stream",
     "text": [
      "output sequences, shape = (3, 4, 2) \n",
      "[[[ 1.1856348e-02  2.4698221e-03]\n",
      "  [ 1.0495540e-03 -4.4721202e-03]\n",
      "  [ 3.3884516e-03 -1.0495769e-03]\n",
      "  [-3.2703332e-03 -4.9766363e-03]]\n",
      "\n",
      " [[-7.4813473e-03 -2.5327897e-03]\n",
      "  [-1.0737133e-02 -1.3017568e-03]\n",
      "  [-9.9973669e-03  1.8517652e-03]\n",
      "  [-1.1716829e-02 -4.4584183e-05]]\n",
      "\n",
      " [[-9.3140425e-03 -1.0643399e-03]\n",
      "  [-1.5416590e-03  6.0919053e-03]\n",
      "  [-6.8737604e-03 -1.7368137e-03]\n",
      "  [-1.0494465e-02 -1.1826329e-03]]]\n"
     ]
    }
   ],
   "source": [
    "output_seq = lstm_seq(X_RNN_embedding, initial_state = None)\n",
    "print(f\"output sequences, shape = {output_seq.shape} \\n{output_seq}\")"
   ]
  },
  {
   "cell_type": "markdown",
   "id": "f55ed4fc-e40e-4a1a-9ecf-554923532251",
   "metadata": {
    "id": "f55ed4fc-e40e-4a1a-9ecf-554923532251"
   },
   "source": [
    "#### LSTM state and sequences"
   ]
  },
  {
   "cell_type": "markdown",
   "id": "ebf3743d-cd4d-4b64-b436-ce6ee2bcca6f",
   "metadata": {
    "id": "ebf3743d-cd4d-4b64-b436-ce6ee2bcca6f"
   },
   "source": [
    "When `return_states` and `return_sequences` are both `True`, it returns the last states and the whole sequence of outputs. \n",
    "- The output sequence shape is `[batch, timesteps, embedding]`.\n",
    "- **It does not return the sequences of states**. \n",
    "  - Unfortunately, there is no argument like `return_sequences_of_states`.\n",
    "  - When you think about it, the sequence of whole outputs are actually the sequence of whole hidden states,\n",
    "  - but we still do not know the sequence of whole cell states.  \n",
    "- It still returns the last states for every window in the batch.\n",
    "- The hidden and cell states are still in the shape `[batch, embedding]`.\n"
   ]
  },
  {
   "cell_type": "code",
   "execution_count": 21,
   "id": "d4684fc4-45c1-492a-9648-b73b99b6aee5",
   "metadata": {
    "colab": {
     "base_uri": "https://localhost:8080/"
    },
    "executionInfo": {
     "elapsed": 8,
     "status": "ok",
     "timestamp": 1656614174469,
     "user": {
      "displayName": "Yeunun Choo",
      "userId": "09529988632388209490"
     },
     "user_tz": 240
    },
    "id": "d4684fc4-45c1-492a-9648-b73b99b6aee5",
    "outputId": "0f4e2fdd-c957-434e-cbc8-5c28f7180a01"
   },
   "outputs": [
    {
     "name": "stdout",
     "output_type": "stream",
     "text": [
      "output sequences, shape = (3, 4, 2) \n",
      "[[[ 1.1856348e-02  2.4698221e-03]\n",
      "  [ 1.0495540e-03 -4.4721202e-03]\n",
      "  [ 3.3884516e-03 -1.0495769e-03]\n",
      "  [-3.2703332e-03 -4.9766363e-03]]\n",
      "\n",
      " [[-7.4813473e-03 -2.5327897e-03]\n",
      "  [-1.0737133e-02 -1.3017568e-03]\n",
      "  [-9.9973669e-03  1.8517652e-03]\n",
      "  [-1.1716829e-02 -4.4584183e-05]]\n",
      "\n",
      " [[-9.3140425e-03 -1.0643399e-03]\n",
      "  [-1.5416590e-03  6.0919053e-03]\n",
      "  [-6.8737604e-03 -1.7368137e-03]\n",
      "  [-1.0494465e-02 -1.1826329e-03]]]\n",
      "\n",
      "state_h, shape = (3, 2) \n",
      "[[-3.2703332e-03 -4.9766363e-03]\n",
      " [-1.1716829e-02 -4.4584183e-05]\n",
      " [-1.0494465e-02 -1.1826329e-03]]\n",
      "\n",
      "state_c, shape = (3, 2) \n",
      "[[-6.5284478e-03 -9.9938801e-03]\n",
      " [-2.3267411e-02 -8.9762187e-05]\n",
      " [-2.0776127e-02 -2.3823222e-03]]\n"
     ]
    }
   ],
   "source": [
    "output_seq, state_h, state_c = lstm_seq_state(X_RNN_embedding, initial_state = None)\n",
    "\n",
    "print(f\"output sequences, shape = {output_seq.shape} \\n{output_seq}\\n\")\n",
    "print(f\"state_h, shape = {state_h.shape} \\n{state_h}\\n\")\n",
    "print(f\"state_c, shape = {state_c.shape} \\n{state_c}\")"
   ]
  },
  {
   "cell_type": "markdown",
   "id": "063daaf9-6265-4619-b73f-16d02061c411",
   "metadata": {
    "id": "063daaf9-6265-4619-b73f-16d02061c411"
   },
   "source": [
    "### Keras GRU Layer"
   ]
  },
  {
   "cell_type": "markdown",
   "id": "b8d867a5-51cf-4fb6-89e3-0529908e2906",
   "metadata": {
    "id": "b8d867a5-51cf-4fb6-89e3-0529908e2906"
   },
   "source": [
    "We can also take a look at `tf.keras.layers.GRU`. It is very similar to the LSTM layer."
   ]
  },
  {
   "cell_type": "code",
   "execution_count": 22,
   "id": "1f6d7318-6327-4d50-b6a7-eaf47b2fe9cd",
   "metadata": {
    "id": "1f6d7318-6327-4d50-b6a7-eaf47b2fe9cd"
   },
   "outputs": [],
   "source": [
    "gru           = tf.keras.layers.GRU(units=embedding_size, return_sequences=False, return_state=False)\n",
    "gru_state     = tf.keras.layers.GRU(units=embedding_size, return_sequences=False, return_state=True )\n",
    "gru_seq       = tf.keras.layers.GRU(units=embedding_size, return_sequences=True,  return_state=False)\n",
    "gru_seq_state = tf.keras.layers.GRU(units=embedding_size, return_sequences=True,  return_state=True )\n",
    "\n",
    "# the Keras GRU layers initialize their weight \n",
    "#   not when they are declared\n",
    "#   but when they are complied\n",
    "gru.build(X_RNN_embedding.shape)\n",
    "gru_state.build(X_RNN_embedding.shape)\n",
    "gru_seq.build(X_RNN_embedding.shape)\n",
    "gru_seq_state.build(X_RNN_embedding.shape)\n",
    "\n",
    "# Now all four layers have exact same weights\n",
    "gru_weights = gru.get_weights()\n",
    "gru_state.set_weights(gru_weights)\n",
    "gru_seq.set_weights(gru_weights)\n",
    "gru_seq_state.set_weights(gru_weights)"
   ]
  },
  {
   "cell_type": "markdown",
   "id": "dac5aece-9ec3-4830-8730-d97c4ba83623",
   "metadata": {
    "id": "dac5aece-9ec3-4830-8730-d97c4ba83623"
   },
   "source": [
    "#### GRU default"
   ]
  },
  {
   "cell_type": "markdown",
   "id": "6c6d2aeb-4d33-486d-8814-588a18177f81",
   "metadata": {
    "id": "6c6d2aeb-4d33-486d-8814-588a18177f81"
   },
   "source": [
    "The default output shape is `[batch, embedding]`."
   ]
  },
  {
   "cell_type": "code",
   "execution_count": 23,
   "id": "306a8ed7-c769-4e1e-b764-dd5eac1d937e",
   "metadata": {
    "colab": {
     "base_uri": "https://localhost:8080/"
    },
    "executionInfo": {
     "elapsed": 5,
     "status": "ok",
     "timestamp": 1656614174469,
     "user": {
      "displayName": "Yeunun Choo",
      "userId": "09529988632388209490"
     },
     "user_tz": 240
    },
    "id": "306a8ed7-c769-4e1e-b764-dd5eac1d937e",
    "outputId": "44d376c6-bdf5-4ab2-c257-7f507eef9bcb"
   },
   "outputs": [
    {
     "name": "stdout",
     "output_type": "stream",
     "text": [
      "default output, shape = (3, 2) \n",
      "[[-0.01338398  0.01621713]\n",
      " [ 0.0137868   0.0005526 ]\n",
      " [ 0.01666589 -0.00130213]]\n"
     ]
    }
   ],
   "source": [
    "output = gru(X_RNN_embedding, initial_state = None)\n",
    "print(f\"default output, shape = {output.shape} \\n{output.numpy()}\")"
   ]
  },
  {
   "cell_type": "markdown",
   "id": "abc5d499-f5da-4e16-9126-c53b5a43a094",
   "metadata": {
    "id": "abc5d499-f5da-4e16-9126-c53b5a43a094"
   },
   "source": [
    "#### GRU state"
   ]
  },
  {
   "cell_type": "markdown",
   "id": "cf11285b-de84-4375-bede-0d0ae78d2582",
   "metadata": {
    "id": "cf11285b-de84-4375-bede-0d0ae78d2582"
   },
   "source": [
    "When `return_state` is `True`, it returns the last hidden state and the last cell state. \n",
    "- The output shape is still `[batch, embedding]`.\n",
    "- Notice that the last hidden state is the same as the output. \n",
    "- The hidden and cell states are in the shape `[batch, embedding]`"
   ]
  },
  {
   "cell_type": "code",
   "execution_count": 24,
   "id": "1fb66328-fd42-4fa6-ab2e-c520934519d5",
   "metadata": {
    "colab": {
     "base_uri": "https://localhost:8080/"
    },
    "executionInfo": {
     "elapsed": 5,
     "status": "ok",
     "timestamp": 1656614174470,
     "user": {
      "displayName": "Yeunun Choo",
      "userId": "09529988632388209490"
     },
     "user_tz": 240
    },
    "id": "1fb66328-fd42-4fa6-ab2e-c520934519d5",
    "outputId": "a3ac2cf7-caa5-42da-a1a3-c0d7f2d985fc"
   },
   "outputs": [
    {
     "name": "stdout",
     "output_type": "stream",
     "text": [
      "output, shape = (3, 2) \n",
      "[[-0.01338398  0.01621713]\n",
      " [ 0.0137868   0.0005526 ]\n",
      " [ 0.01666589 -0.00130213]]\n",
      "\n",
      "state_gru, shape = (3, 2) \n",
      "[[-0.01338398  0.01621713]\n",
      " [ 0.0137868   0.0005526 ]\n",
      " [ 0.01666589 -0.00130213]]\n",
      "\n"
     ]
    }
   ],
   "source": [
    "output, state_gru = gru_state(X_RNN_embedding, initial_state = None)\n",
    "\n",
    "print(f\"output, shape = {output.shape} \\n{output}\\n\")\n",
    "print(f\"state_gru, shape = {state_gru.shape} \\n{state_gru}\\n\")"
   ]
  },
  {
   "cell_type": "markdown",
   "id": "1156ac44-2f73-4a2c-acbb-5a9b196358e3",
   "metadata": {
    "id": "1156ac44-2f73-4a2c-acbb-5a9b196358e3"
   },
   "source": [
    "#### GRU sequences"
   ]
  },
  {
   "cell_type": "markdown",
   "id": "97379169-ada2-4fbb-a94e-9f46602bbe06",
   "metadata": {
    "id": "97379169-ada2-4fbb-a94e-9f46602bbe06"
   },
   "source": [
    "When `return_sequences` is `True`, it returns whole sequence of outputs. \n",
    "- The output sequence shape is `[batch, timesteps, embedding]`."
   ]
  },
  {
   "cell_type": "code",
   "execution_count": 25,
   "id": "030c873e-aa80-45ec-b357-ae6cdf35a231",
   "metadata": {
    "colab": {
     "base_uri": "https://localhost:8080/"
    },
    "executionInfo": {
     "elapsed": 184,
     "status": "ok",
     "timestamp": 1656614174650,
     "user": {
      "displayName": "Yeunun Choo",
      "userId": "09529988632388209490"
     },
     "user_tz": 240
    },
    "id": "030c873e-aa80-45ec-b357-ae6cdf35a231",
    "outputId": "5dd07d23-1525-49d5-a3d5-d5f6c8a8d2e7"
   },
   "outputs": [
    {
     "name": "stdout",
     "output_type": "stream",
     "text": [
      "output sequences, shape = (3, 4, 2) \n",
      "[[[-0.02770887  0.00280013]\n",
      "  [-0.01112926  0.01041148]\n",
      "  [-0.01237461  0.00696197]\n",
      "  [-0.01338398  0.01621713]]\n",
      "\n",
      " [[ 0.01019427  0.00291726]\n",
      "  [ 0.01447574  0.00215684]\n",
      "  [ 0.02017451 -0.00475384]\n",
      "  [ 0.0137868   0.0005526 ]]\n",
      "\n",
      " [[ 0.02572208 -0.00517765]\n",
      "  [ 0.02861888 -0.02091891]\n",
      "  [ 0.01212616 -0.00329921]\n",
      "  [ 0.01666589 -0.00130213]]]\n"
     ]
    }
   ],
   "source": [
    "output_seq = gru_seq(X_RNN_embedding, initial_state = None)\n",
    "print(f\"output sequences, shape = {output_seq.shape} \\n{output_seq}\")"
   ]
  },
  {
   "cell_type": "markdown",
   "id": "c6e26956-b383-4ba4-a5bf-5ffedb0fa6db",
   "metadata": {
    "id": "c6e26956-b383-4ba4-a5bf-5ffedb0fa6db"
   },
   "source": [
    "#### GRU state and sequences"
   ]
  },
  {
   "cell_type": "markdown",
   "id": "3dc0ead0-39b2-4c7e-abc4-69ea0248b326",
   "metadata": {
    "id": "3dc0ead0-39b2-4c7e-abc4-69ea0248b326"
   },
   "source": [
    "When `return_states` and `return_sequences` are both `True`, it returns the last states and the whole sequence of outputs. \n",
    "- The output sequence shape is `[batch, timesteps, embedding]`.\n",
    "- It does not return the sequences of states again. \n",
    "  - **However**, the sequence of whole outputs are actually the sequence of whole hidden states,\n",
    "- It still returns the last states for every window in the batch.\n",
    "- The hidden and cell states are still in the shape `[batch, embedding]`.\n"
   ]
  },
  {
   "cell_type": "code",
   "execution_count": 26,
   "id": "5990c86f-f642-4950-a1da-c6e9ee2ab9d8",
   "metadata": {
    "colab": {
     "base_uri": "https://localhost:8080/"
    },
    "executionInfo": {
     "elapsed": 3,
     "status": "ok",
     "timestamp": 1656614174650,
     "user": {
      "displayName": "Yeunun Choo",
      "userId": "09529988632388209490"
     },
     "user_tz": 240
    },
    "id": "5990c86f-f642-4950-a1da-c6e9ee2ab9d8",
    "outputId": "a951f978-2c86-4d95-e42d-de37761ffa64"
   },
   "outputs": [
    {
     "name": "stdout",
     "output_type": "stream",
     "text": [
      "output sequences, shape = (3, 4, 2) \n",
      "[[[-0.02770887  0.00280013]\n",
      "  [-0.01112926  0.01041148]\n",
      "  [-0.01237461  0.00696197]\n",
      "  [-0.01338398  0.01621713]]\n",
      "\n",
      " [[ 0.01019427  0.00291726]\n",
      "  [ 0.01447574  0.00215684]\n",
      "  [ 0.02017451 -0.00475384]\n",
      "  [ 0.0137868   0.0005526 ]]\n",
      "\n",
      " [[ 0.02572208 -0.00517765]\n",
      "  [ 0.02861888 -0.02091891]\n",
      "  [ 0.01212616 -0.00329921]\n",
      "  [ 0.01666589 -0.00130213]]]\n",
      "\n",
      "state_gru, shape = (3, 2) \n",
      "[[-0.01338398  0.01621713]\n",
      " [ 0.0137868   0.0005526 ]\n",
      " [ 0.01666589 -0.00130213]]\n",
      "\n"
     ]
    }
   ],
   "source": [
    "output_seq, state_gru = gru_seq_state(X_RNN_embedding, initial_state = None)\n",
    "\n",
    "print(f\"output sequences, shape = {output_seq.shape} \\n{output_seq}\\n\")\n",
    "print(f\"state_gru, shape = {state_gru.shape} \\n{state_gru}\\n\")"
   ]
  },
  {
   "cell_type": "markdown",
   "id": "9fdc0ae0-cec4-42cf-86ba-cf9c17cfcb6d",
   "metadata": {
    "id": "9fdc0ae0-cec4-42cf-86ba-cf9c17cfcb6d"
   },
   "source": [
    "### Train and Test with RNN\n",
    "\n",
    "Now you should be ready to complete every function in the file `trigram.py`. Go finish `trigram.py` and come back to here.\n",
    "\n",
    "Steps to take: \n",
    "- Load the data with `get_data`\n",
    "- Reshape the input and output data into the RNN shape\n",
    "- Initialize the model, train it, and calculate the perplexity"
   ]
  },
  {
   "cell_type": "code",
   "execution_count": 27,
   "id": "7dd1fcec-21ed-497c-a1f3-b26255ed65c6",
   "metadata": {
    "colab": {
     "base_uri": "https://localhost:8080/"
    },
    "executionInfo": {
     "elapsed": 539706,
     "status": "ok",
     "timestamp": 1656614714354,
     "user": {
      "displayName": "Yeunun Choo",
      "userId": "09529988632388209490"
     },
     "user_tz": 240
    },
    "id": "7dd1fcec-21ed-497c-a1f3-b26255ed65c6",
    "outputId": "ea87bc66-e79d-4218-9304-c053578cb260"
   },
   "outputs": [
    {
     "ename": "NameError",
     "evalue": "name 'train_id' is not defined",
     "output_type": "error",
     "traceback": [
      "\u001b[0;31m---------------------------------------------------------------------------\u001b[0m",
      "\u001b[0;31mNameError\u001b[0m                                 Traceback (most recent call last)",
      "File \u001b[0;32m<timed exec>:5\u001b[0m\n",
      "\u001b[0;31mNameError\u001b[0m: name 'train_id' is not defined"
     ]
    }
   ],
   "source": [
    "%%time\n",
    "\n",
    "import rnn\n",
    "\n",
    "train_tracks_id, test_tracks_id, track_to_id, relevance_output, lp = preprocessing.preprocess()\n",
    "\n",
    "train_id = np.array(train_id)\n",
    "test_id  = np.array(test_id)\n",
    "X0, Y0 = train_id[:-1], train_id[1:]\n",
    "X1, Y1  = test_id[:-1],  test_id[1:]\n",
    "\n",
    "\n",
    "X0 = X0[:-(len(X0) % 20)]\n",
    "Y0 = Y0[:-(len(Y0) % 20)]\n",
    "X1 = X1[:-(len(X1) % 20)]\n",
    "Y1 = Y1[:-(len(Y1) % 20)]\n",
    "\n",
    "np.reshape(X0, (-1, 20))\n",
    "np.reshape(X1, (-1, 20))\n",
    "np.reshape(Y0, (-1, 20))\n",
    "np.reshape(Y1, (-1, 20))\n",
    "\n",
    "rnn_args = rnn.get_text_model(relevance_output)\n",
    "\n",
    "rnn_args.model.fit(\n",
    "    X0, Y0,\n",
    "    epochs=rnn_args.epochs,\n",
    "    batch_size=rnn_args.batch_size,\n",
    "    validation_data=(X1, Y1)\n",
    ")"
   ]
  },
  {
   "cell_type": "markdown",
   "id": "1a8ef199-d1c1-465c-b629-9d3d8cf8e1f1",
   "metadata": {
    "id": "1a8ef199-d1c1-465c-b629-9d3d8cf8e1f1"
   },
   "source": [
    "### Generate Sentences with RNN"
   ]
  },
  {
   "cell_type": "markdown",
   "id": "dc93c257-6c85-494d-9bb3-fdd28b5fe403",
   "metadata": {
    "id": "dc93c257-6c85-494d-9bb3-fdd28b5fe403"
   },
   "source": [
    "Try the model with your own pairs of starting words. "
   ]
  },
  {
   "cell_type": "code",
   "execution_count": null,
=======
   "execution_count": 48,
>>>>>>> main
   "id": "8de51a2b-44e0-44c5-88ad-06cbd1d9e1d0",
   "metadata": {
    "colab": {
     "base_uri": "https://localhost:8080/"
    },
    "executionInfo": {
     "elapsed": 634,
     "status": "ok",
     "timestamp": 1656614714980,
     "user": {
      "displayName": "Yeunun Choo",
      "userId": "09529988632388209490"
     },
     "user_tz": 240
    },
    "id": "8de51a2b-44e0-44c5-88ad-06cbd1d9e1d0",
    "outputId": "30bae9cb-9be5-4da5-cdbf-e0b51943616d"
   },
   "outputs": [
    {
     "name": "stdout",
     "output_type": "stream",
     "text": [
      "Say It Ain't So, Gold, Caroline, Ride, Waves, Congratulations, Congratulations, Congratulations, HUMBLE., Closer, Don't Let Me Down, Go Flex, Don't Let Me Down, Congratulations, Don't Let Me Down, Don't Let Me Down, Congratulations, Don't Let Me Down, Gold Digger, Ni**as In Paris, Congratulations\n",
      "\n",
      "Island In The Sun, Gold Digger, Ride, One Dance, Don't Let Me Down, HUMBLE., Closer, Gold, Let Me Love You, Closer, Forever, Congratulations, Closer, Congratulations, Party In The U.S.A., Closer, Caroline, Gold, Let Me Love You, Gold, Caroline\n",
      "\n",
      "Undone - The Sweater Song, Let Me Love You, Sorry, Let Me Love You, One Dance, Jungle, One Dance, Bodak Yellow, Gold, Skinny Love, Congratulations, Closer, Caroline, Don't Let Me Down, Mask Off, Don't Let Me Down, Don't Let Me Down, Mask Off, Don't Let Me Down, Go Flex, Don't Let Me Down\n",
      "\n"
     ]
    }
   ],
   "source": [
    "## Feel free to mess around with the word list to see the model try to generate sentences\n",
    "for word1 in [\"Say It Ain't So\", \"Island In The Sun\", \"Undone - The Sweater Song\"]:\n",
    "    if word1 not in vocab: print(f\"{word1} not in vocabulary\")            \n",
    "    else: rnn_args.model.generate_sentence(word1, 20, vocab, 10)\n",
    "    print(\"\")"
   ]
  }
 ],
 "metadata": {
  "colab": {
   "collapsed_sections": [],
   "name": "HW4_LM.ipynb",
   "provenance": []
  },
  "kernelspec": {
   "display_name": "Python 3.8.15 ('eric')",
   "language": "python",
   "name": "python3"
  },
  "language_info": {
   "codemirror_mode": {
    "name": "ipython",
    "version": 3
   },
   "file_extension": ".py",
   "mimetype": "text/x-python",
   "name": "python",
   "nbconvert_exporter": "python",
   "pygments_lexer": "ipython3",
   "version": "3.8.15"
  },
  "vscode": {
   "interpreter": {
    "hash": "187148e4c5ed58496f5273f307f082177127925a573279df7cfa977aab41e962"
   }
  }
 },
 "nbformat": 4,
 "nbformat_minor": 5
}
