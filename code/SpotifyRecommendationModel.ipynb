{
 "cells": [
  {
   "cell_type": "code",
   "execution_count": 1,
   "id": "e5867603-2b77-47ea-8cdb-97fa84e1a491",
   "metadata": {
    "id": "e5867603-2b77-47ea-8cdb-97fa84e1a491"
   },
   "outputs": [],
   "source": [
    "import numpy as np\n",
    "import tensorflow as tf\n",
    "\n",
    "import matplotlib as mpl\n",
    "import matplotlib.pyplot as plt\n",
    "import preprocessing\n",
    "\n",
    "import collections"
   ]
  },
  {
   "cell_type": "code",
   "execution_count": 2,
   "id": "048c1b2c",
   "metadata": {},
   "outputs": [],
   "source": [
    "%load_ext autoreload\n",
    "%autoreload 2"
   ]
  },
  {
   "cell_type": "code",
   "execution_count": 3,
   "id": "1aaa7e7a-c467-4f48-9fc6-2a7d28c35eda",
   "metadata": {
    "id": "1aaa7e7a-c467-4f48-9fc6-2a7d28c35eda"
   },
   "outputs": [],
   "source": [
    "data_path = \"../data\""
   ]
  },
  {
   "attachments": {},
   "cell_type": "markdown",
   "id": "371287d3-2c38-472e-b04b-237b2aa24eb6",
   "metadata": {
    "id": "371287d3-2c38-472e-b04b-237b2aa24eb6"
   },
   "source": [
    "## Most Common Song Finder"
   ]
  },
  {
   "cell_type": "code",
   "execution_count": 4,
   "id": "7517f466-0b7a-4fc5-b709-dbd5eddf0fe2",
   "metadata": {
    "colab": {
     "base_uri": "https://localhost:8080/"
    },
    "executionInfo": {
     "elapsed": 2459,
     "status": "ok",
     "timestamp": 1656613551989,
     "user": {
      "displayName": "Yeunun Choo",
      "userId": "09529988632388209490"
     },
     "user_tz": 240
    },
    "id": "7517f466-0b7a-4fc5-b709-dbd5eddf0fe2",
    "outputId": "19aaec91-dcdd-46e5-abdf-b519b6df02eb"
   },
   "outputs": [
    {
     "name": "stdout",
     "output_type": "stream",
     "text": [
      "('<BREAK>', 1001), ('Closer', 61), ('Roses', 49), ('Caroline', 48), ('Home', 47), ('Bad and Boujee (feat. Lil Uzi Vert)', 46), ('HUMBLE.', 44), ('Congratulations', 43), ('1-800-273-8255', 43), ('One Dance', 43), ('Starboy', 38), ('Broccoli (feat. Lil Yachty)', 37), ('XO TOUR Llif3', 36), ('Panda', 36), ('Let Me Love You', 36), ('goosebumps', 35), ('Selfish', 35), ('Ride', 35), ('Redbone', 34), ('Mask Off', 34), ('Trouble', 33), ('Stay', 33), ('Chill Bill', 33), (\"Don't\", 33), ('Hotline Bling', 33), ('Trap Queen', 32), ('rockstar', 32), ('Passionfruit', 32), ('Down', 32), ('Forever', 32), ('Unforgettable', 32), ('Shape of You', 32), ('Jungle', 31), ('Sorry', 31), ('Location', 31), (\"I'm the One\", 31), ('Black Beatles', 31), ('No Problem (feat. Lil Wayne & 2 Chainz)', 31), ('Slide', 30), ('Hold On', 30)\n"
     ]
    }
   ],
   "source": [
    "train_id, test_id, vocab, relevance, lp = preprocessing.preprocess(directory='../data_info/data/', train_test_split=0.8, k=2)\n",
    "\n",
    "song_counter = collections.Counter(train_id)\n",
    "\n",
    "n_most_common = 40\n",
    "most_common_tokens, most_common_occurrences = zip(*song_counter.most_common(n_most_common))\n",
    "\n",
    "## Convert the tokens back to words so that we can see what they are\n",
    "token_to_word_dict = {i:w for w, i in vocab.items()}\n",
    "most_common_songs = [token_to_word_dict[t] for t in most_common_tokens]\n",
    "\n",
    "print(*zip(most_common_songs, most_common_occurrences), sep = \", \")"
   ]
  },
  {
   "cell_type": "code",
   "execution_count": 5,
   "id": "58c58056-62d8-49ff-b046-49c12fb69062",
   "metadata": {
    "colab": {
     "base_uri": "https://localhost:8080/",
     "height": 700
    },
    "executionInfo": {
     "elapsed": 602,
     "status": "ok",
     "timestamp": 1656613552588,
     "user": {
      "displayName": "Yeunun Choo",
      "userId": "09529988632388209490"
     },
     "user_tz": 240
    },
    "id": "58c58056-62d8-49ff-b046-49c12fb69062",
    "outputId": "6d940990-de75-40c1-c4ad-5faf56fa0b35"
   },
   "outputs": [
    {
     "ename": "NameError",
     "evalue": "name 'most_common_words' is not defined",
     "output_type": "error",
     "traceback": [
      "\u001b[0;31m---------------------------------------------------------------------------\u001b[0m",
      "\u001b[0;31mNameError\u001b[0m                                 Traceback (most recent call last)",
      "Cell \u001b[0;32mIn [5], line 2\u001b[0m\n\u001b[1;32m      1\u001b[0m fig_most_common, ax_top50_most_common \u001b[38;5;241m=\u001b[39m plt\u001b[38;5;241m.\u001b[39msubplots()\n\u001b[0;32m----> 2\u001b[0m ax_top50_most_common\u001b[38;5;241m.\u001b[39mbarh(y \u001b[38;5;241m=\u001b[39m \u001b[43mmost_common_words\u001b[49m,\n\u001b[1;32m      3\u001b[0m                           width \u001b[38;5;241m=\u001b[39m most_common_occurrences, \n\u001b[1;32m      4\u001b[0m                           height \u001b[38;5;241m=\u001b[39m \u001b[38;5;241m0.75\u001b[39m, \n\u001b[1;32m      5\u001b[0m                           color \u001b[38;5;241m=\u001b[39m \u001b[38;5;124m\"\u001b[39m\u001b[38;5;124mC0\u001b[39m\u001b[38;5;124m\"\u001b[39m, \n\u001b[1;32m      6\u001b[0m                           edgecolor \u001b[38;5;241m=\u001b[39m \u001b[38;5;124m\"\u001b[39m\u001b[38;5;124mblack\u001b[39m\u001b[38;5;124m\"\u001b[39m, \n\u001b[1;32m      7\u001b[0m                           zorder \u001b[38;5;241m=\u001b[39m \u001b[38;5;241m100\u001b[39m)\n\u001b[1;32m      9\u001b[0m ax_top50_most_common\u001b[38;5;241m.\u001b[39mgrid(linestyle \u001b[38;5;241m=\u001b[39m \u001b[38;5;124m\"\u001b[39m\u001b[38;5;124mdashed\u001b[39m\u001b[38;5;124m\"\u001b[39m, \n\u001b[1;32m     10\u001b[0m                           color \u001b[38;5;241m=\u001b[39m \u001b[38;5;124m\"\u001b[39m\u001b[38;5;124m#bfbfbf\u001b[39m\u001b[38;5;124m\"\u001b[39m, \n\u001b[1;32m     11\u001b[0m                           zorder \u001b[38;5;241m=\u001b[39m \u001b[38;5;241m-\u001b[39m\u001b[38;5;241m100\u001b[39m)\n\u001b[1;32m     13\u001b[0m ax_top50_most_common\u001b[38;5;241m.\u001b[39mset_yticks(ticks \u001b[38;5;241m=\u001b[39m ax_top50_most_common\u001b[38;5;241m.\u001b[39mget_yticks())\n",
      "\u001b[0;31mNameError\u001b[0m: name 'most_common_words' is not defined"
     ]
    },
    {
     "data": {
      "image/png": "[encoded data removed]",
      "text/plain": [
       "<Figure size 640x480 with 1 Axes>"
      ]
     },
     "metadata": {},
     "output_type": "display_data"
    }
   ],
   "source": [
    "fig_most_common, ax_top50_most_common = plt.subplots()\n",
    "ax_top50_most_common.barh(y = most_common_words,\n",
    "                          width = most_common_occurrences, \n",
    "                          height = 0.75, \n",
    "                          color = \"C0\", \n",
    "                          edgecolor = \"black\", \n",
    "                          zorder = 100)\n",
    "\n",
    "ax_top50_most_common.grid(linestyle = \"dashed\", \n",
    "                          color = \"#bfbfbf\", \n",
    "                          zorder = -100)\n",
    "\n",
    "ax_top50_most_common.set_yticks(ticks = ax_top50_most_common.get_yticks())\n",
    "ax_top50_most_common.set_yticklabels(labels = most_common_words, \n",
    "                                     fontsize = 14)\n",
    "\n",
    "ax_top50_most_common.invert_yaxis()\n",
    "\n",
    "fig_most_common.set_size_inches([6, 12])"
   ]
  },
  {
   "attachments": {},
   "cell_type": "markdown",
   "id": "9fdc0ae0-cec4-42cf-86ba-cf9c17cfcb6d",
   "metadata": {
    "id": "9fdc0ae0-cec4-42cf-86ba-cf9c17cfcb6d"
   },
   "source": [
    "### Run The Model"
   ]
  },
  {
   "cell_type": "code",
   "execution_count": null,
   "id": "7dd1fcec-21ed-497c-a1f3-b26255ed65c6",
   "metadata": {
    "colab": {
     "base_uri": "https://localhost:8080/"
    },
    "executionInfo": {
     "elapsed": 539706,
     "status": "ok",
     "timestamp": 1656614714354,
     "user": {
      "displayName": "Yeunun Choo",
      "userId": "09529988632388209490"
     },
     "user_tz": 240
    },
    "id": "7dd1fcec-21ed-497c-a1f3-b26255ed65c6",
    "outputId": "ea87bc66-e79d-4218-9304-c053578cb260"
   },
   "outputs": [
    {
     "name": "stdout",
     "output_type": "stream",
     "text": [
      "Epoch 1/2\n",
      "136/136 [==============================] - 690s 5s/step - loss: 8.7365 - RPrecision: 0.0154 - val_loss: 5.7621 - val_RPrecision: 0.0123\n",
      "Epoch 2/2\n",
      " 70/136 [==============>...............] - ETA: 4:22 - loss: 5.6617 - RPrecision: 0.0154"
     ]
    }
   ],
   "source": [
    "%%time\n",
    "\n",
    "import rnn\n",
    "\n",
    "train_id, test_id, vocab, relevance, lp = preprocessing.preprocess(directory='../data_info/data/', train_test_split=0.8, k=3)\n",
    "\n",
    "train_id = np.array(train_id)\n",
    "test_id  = np.array(test_id)    \n",
    "\n",
    "# Training and validation are aligned because we require the input song for RPrecision\n",
    "X0, Y0 = train_id, train_id\n",
    "X1, Y1 = test_id,  test_id\n",
    "\n",
    "args = rnn.get_text_model(vocab, relevance)\n",
    "\n",
    "data = args.model.fit(\n",
    "    X0, Y0,\n",
    "    epochs=2, \n",
    "    batch_size=lp,\n",
    "    validation_data=(X1, Y1)\n",
    ")"
   ]
  },
  {
   "attachments": {},
   "cell_type": "markdown",
   "id": "1a8ef199-d1c1-465c-b629-9d3d8cf8e1f1",
   "metadata": {
    "id": "1a8ef199-d1c1-465c-b629-9d3d8cf8e1f1"
   },
   "source": [
    "### Generate Playlist"
   ]
  },
  {
   "cell_type": "code",
   "execution_count": null,
   "id": "8de51a2b-44e0-44c5-88ad-06cbd1d9e1d0",
   "metadata": {
    "colab": {
     "base_uri": "https://localhost:8080/"
    },
    "executionInfo": {
     "elapsed": 634,
     "status": "ok",
     "timestamp": 1656614714980,
     "user": {
      "displayName": "Yeunun Choo",
      "userId": "09529988632388209490"
     },
     "user_tz": 240
    },
    "id": "8de51a2b-44e0-44c5-88ad-06cbd1d9e1d0",
    "outputId": "30bae9cb-9be5-4da5-cdbf-e0b51943616d"
   },
   "outputs": [],
   "source": [
    "def RPrecision(predictions, labels):\n",
    "        PAD_TOKEN = 0\n",
    "        #print(prediction_arr)\n",
    "        predict_set = set(predictions)\n",
    "        labels = labels[:len(predict_set)]\n",
    "        \n",
    "        ground_truth = set(labels)\n",
    "\n",
    "        # Return mean of running total to get running mean\n",
    "        return len(predict_set.intersection(ground_truth)) / len(ground_truth)\n",
    "\n",
    "## Feel free to mess around with the word list to see the model try to generate sentences\n",
    "for word1 in ['Creep']:\n",
    "    if word1 not in vocab: print(f\"{word1} not in vocabulary\")            \n",
    "    else: print(args.model.generate_recommendations(word1, 10, vocab))\n",
    "    print()\n",
    "\n",
    "ids = relevance[vocab['Creep']]\n",
    "id_to_track = {id: name for name, id in vocab.items()}\n",
    "tracks =[id_to_track[id] for id in ids]\n",
    "print(tracks[:30])\n",
    "print()\n",
    "print(\"R-Precision: \" + str(RPrecision(args.model.generate_recommendations(word1, 10, vocab), [id_to_track[x] for x in relevance[vocab['Creep']]])))"
   ]
  }
 ],
 "metadata": {
  "colab": {
   "collapsed_sections": [],
   "name": "HW4_LM.ipynb",
   "provenance": []
  },
  "interpreter": {
   "hash": "0f7962ef55916a0e1762a5b4c26f7efa5a0842abe59cbb0899f0d76e1510b120"
  },
  "kernelspec": {
   "display_name": "Python 3.9.13 64-bit ('dl3': conda)",
   "name": "python3"
  },
  "language_info": {
   "codemirror_mode": {
    "name": "ipython",
    "version": 3
   },
   "file_extension": ".py",
   "mimetype": "text/x-python",
   "name": "python",
   "nbconvert_exporter": "python",
   "pygments_lexer": "ipython3",
   "version": "3.9.13"
  },
  "vscode": {
   "interpreter": {
    "hash": "187148e4c5ed58496f5273f307f082177127925a573279df7cfa977aab41e962"
   }
  }
 },
 "nbformat": 4,
 "nbformat_minor": 5
}
